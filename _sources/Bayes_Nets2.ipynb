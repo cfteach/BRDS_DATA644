{
  "nbformat": 4,
  "nbformat_minor": 0,
  "metadata": {
    "colab": {
      "provenance": []
    },
    "kernelspec": {
      "name": "python3",
      "display_name": "Python 3"
    },
    "language_info": {
      "name": "python"
    }
  },
  "cells": [
    {
      "cell_type": "markdown",
      "source": [
        "### Bayes Net (or Belief Networks)\n"
      ],
      "metadata": {
        "id": "UihI6MPWjHbl"
      }
    },
    {
      "cell_type": "markdown",
      "source": [
        "Bayesian networks use graphical structures to depict probabilistic relationships between a multitude of variables and facilitate probabilistic inference with these variables. The 1990s witnessed the development of outstanding algorithms for deriving Bayesian networks from observational data.\n",
        "\n",
        "* We focus on intuitive strategies that emphasizes causal learning.\n",
        "\n",
        "* We highlight the connections with the Bayesian approach through straightforward examples. This approach allows us to infer causal relationships from observational data.\n",
        "\n",
        "\n",
        "Let's take this problem as our starting point or concrete example to introduce Bayesian Networks through a **graph collider**.\n",
        "\n",
        "<img src=\"https://drive.google.com/uc?export=view&id=1ugh_UoUWoZ29sRmn9GoJTl0BeKlLq8f5\" width=\"700\">\n",
        "\n",
        "Credits: https://discourse.pymc.io/t/bayes-nets-belief-networks-and-pymc/5150?page=2\n"
      ],
      "metadata": {
        "id": "DQxUAmayjQju"
      }
    },
    {
      "cell_type": "markdown",
      "source": [
        "### Bayes Network Using PyMC"
      ],
      "metadata": {
        "id": "d6rXb-r18e2_"
      }
    },
    {
      "cell_type": "code",
      "source": [
        "import pymc as pm\n",
        "import pytensor.tensor as pt\n",
        "from pytensor import shared\n",
        "import numpy as np"
      ],
      "metadata": {
        "id": "YmCIzzMMnhU4"
      },
      "execution_count": 7,
      "outputs": []
    },
    {
      "cell_type": "code",
      "source": [
        "lookup_table = shared(np.asarray([\n",
        "    [[.99, .01], [.1, .9]],\n",
        "    [[.9, .1], [.1, .9]]]))\n",
        "\n",
        "def f(smoker, covid):\n",
        "    return lookup_table[smoker, covid]\n",
        "\n",
        "with pm.Model() as m_bn:\n",
        "    smoker = pm.Categorical('smoker', [.75, .25])\n",
        "    covid = pm.Categorical('covid', [.9, .1])\n",
        "    hospital = pm.Categorical('hospital', f(smoker, covid))\n",
        "    prior_trace = pm.sample_prior_predictive(100000)\n"
      ],
      "metadata": {
        "id": "zIhlurtrzJcK"
      },
      "execution_count": 8,
      "outputs": []
    },
    {
      "cell_type": "code",
      "source": [
        "prior_covid = prior_trace.prior['covid'].values\n",
        "prior_smoker = prior_trace.prior['smoker'].values\n",
        "prior_hospital = prior_trace.prior['hospital'].values"
      ],
      "metadata": {
        "id": "XQxI_jFU7YsA"
      },
      "execution_count": 9,
      "outputs": []
    },
    {
      "cell_type": "code",
      "source": [
        "predict_proba0 = prior_covid[(prior_smoker == 0) & (prior_hospital == 1)].mean()\n",
        "predict_proba1 = prior_covid[(prior_smoker == 1) & (prior_hospital == 1)].mean()\n"
      ],
      "metadata": {
        "id": "eS9XBWxL7wdD"
      },
      "execution_count": 10,
      "outputs": []
    },
    {
      "cell_type": "code",
      "source": [
        "print(f'P(covid|¬smoking, hospital) is {predict_proba0:1.2f}')\n",
        "print(f'P(covid|smoking, hospital) is {predict_proba1:1.2f}')"
      ],
      "metadata": {
        "colab": {
          "base_uri": "https://localhost:8080/"
        },
        "id": "Jpx_4u0t8Yw-",
        "outputId": "2adb0ccf-8141-46a5-861f-b6c934b3ed4b"
      },
      "execution_count": 11,
      "outputs": [
        {
          "output_type": "stream",
          "name": "stdout",
          "text": [
            "P(covid|¬smoking, hospital) is 0.91\n",
            "P(covid|smoking, hospital) is 0.49\n"
          ]
        }
      ]
    },
    {
      "cell_type": "markdown",
      "source": [
        "### pgmpy Implementation"
      ],
      "metadata": {
        "id": "zSarw9WCJTAE"
      }
    },
    {
      "cell_type": "code",
      "source": [
        "%pip install pgmpy"
      ],
      "metadata": {
        "colab": {
          "base_uri": "https://localhost:8080/"
        },
        "id": "9e60RcgdJZkc",
        "outputId": "1c6810eb-8797-492e-806f-0838f80db62d"
      },
      "execution_count": 12,
      "outputs": [
        {
          "output_type": "stream",
          "name": "stdout",
          "text": [
            "Requirement already satisfied: pgmpy in /usr/local/lib/python3.10/dist-packages (0.1.25)\n",
            "Requirement already satisfied: networkx in /usr/local/lib/python3.10/dist-packages (from pgmpy) (3.2.1)\n",
            "Requirement already satisfied: numpy in /usr/local/lib/python3.10/dist-packages (from pgmpy) (1.25.2)\n",
            "Requirement already satisfied: scipy in /usr/local/lib/python3.10/dist-packages (from pgmpy) (1.11.4)\n",
            "Requirement already satisfied: scikit-learn in /usr/local/lib/python3.10/dist-packages (from pgmpy) (1.2.2)\n",
            "Requirement already satisfied: pandas in /usr/local/lib/python3.10/dist-packages (from pgmpy) (2.0.3)\n",
            "Requirement already satisfied: pyparsing in /usr/local/lib/python3.10/dist-packages (from pgmpy) (3.1.2)\n",
            "Requirement already satisfied: torch in /usr/local/lib/python3.10/dist-packages (from pgmpy) (2.2.1+cu121)\n",
            "Requirement already satisfied: statsmodels in /usr/local/lib/python3.10/dist-packages (from pgmpy) (0.14.1)\n",
            "Requirement already satisfied: tqdm in /usr/local/lib/python3.10/dist-packages (from pgmpy) (4.66.2)\n",
            "Requirement already satisfied: joblib in /usr/local/lib/python3.10/dist-packages (from pgmpy) (1.3.2)\n",
            "Requirement already satisfied: opt-einsum in /usr/local/lib/python3.10/dist-packages (from pgmpy) (3.3.0)\n",
            "Requirement already satisfied: python-dateutil>=2.8.2 in /usr/local/lib/python3.10/dist-packages (from pandas->pgmpy) (2.8.2)\n",
            "Requirement already satisfied: pytz>=2020.1 in /usr/local/lib/python3.10/dist-packages (from pandas->pgmpy) (2023.4)\n",
            "Requirement already satisfied: tzdata>=2022.1 in /usr/local/lib/python3.10/dist-packages (from pandas->pgmpy) (2024.1)\n",
            "Requirement already satisfied: threadpoolctl>=2.0.0 in /usr/local/lib/python3.10/dist-packages (from scikit-learn->pgmpy) (3.4.0)\n",
            "Requirement already satisfied: patsy>=0.5.4 in /usr/local/lib/python3.10/dist-packages (from statsmodels->pgmpy) (0.5.6)\n",
            "Requirement already satisfied: packaging>=21.3 in /usr/local/lib/python3.10/dist-packages (from statsmodels->pgmpy) (24.0)\n",
            "Requirement already satisfied: filelock in /usr/local/lib/python3.10/dist-packages (from torch->pgmpy) (3.13.3)\n",
            "Requirement already satisfied: typing-extensions>=4.8.0 in /usr/local/lib/python3.10/dist-packages (from torch->pgmpy) (4.10.0)\n",
            "Requirement already satisfied: sympy in /usr/local/lib/python3.10/dist-packages (from torch->pgmpy) (1.12)\n",
            "Requirement already satisfied: jinja2 in /usr/local/lib/python3.10/dist-packages (from torch->pgmpy) (3.1.3)\n",
            "Requirement already satisfied: fsspec in /usr/local/lib/python3.10/dist-packages (from torch->pgmpy) (2023.6.0)\n",
            "Requirement already satisfied: nvidia-cuda-nvrtc-cu12==12.1.105 in /usr/local/lib/python3.10/dist-packages (from torch->pgmpy) (12.1.105)\n",
            "Requirement already satisfied: nvidia-cuda-runtime-cu12==12.1.105 in /usr/local/lib/python3.10/dist-packages (from torch->pgmpy) (12.1.105)\n",
            "Requirement already satisfied: nvidia-cuda-cupti-cu12==12.1.105 in /usr/local/lib/python3.10/dist-packages (from torch->pgmpy) (12.1.105)\n",
            "Requirement already satisfied: nvidia-cudnn-cu12==8.9.2.26 in /usr/local/lib/python3.10/dist-packages (from torch->pgmpy) (8.9.2.26)\n",
            "Requirement already satisfied: nvidia-cublas-cu12==12.1.3.1 in /usr/local/lib/python3.10/dist-packages (from torch->pgmpy) (12.1.3.1)\n",
            "Requirement already satisfied: nvidia-cufft-cu12==11.0.2.54 in /usr/local/lib/python3.10/dist-packages (from torch->pgmpy) (11.0.2.54)\n",
            "Requirement already satisfied: nvidia-curand-cu12==10.3.2.106 in /usr/local/lib/python3.10/dist-packages (from torch->pgmpy) (10.3.2.106)\n",
            "Requirement already satisfied: nvidia-cusolver-cu12==11.4.5.107 in /usr/local/lib/python3.10/dist-packages (from torch->pgmpy) (11.4.5.107)\n",
            "Requirement already satisfied: nvidia-cusparse-cu12==12.1.0.106 in /usr/local/lib/python3.10/dist-packages (from torch->pgmpy) (12.1.0.106)\n",
            "Requirement already satisfied: nvidia-nccl-cu12==2.19.3 in /usr/local/lib/python3.10/dist-packages (from torch->pgmpy) (2.19.3)\n",
            "Requirement already satisfied: nvidia-nvtx-cu12==12.1.105 in /usr/local/lib/python3.10/dist-packages (from torch->pgmpy) (12.1.105)\n",
            "Requirement already satisfied: triton==2.2.0 in /usr/local/lib/python3.10/dist-packages (from torch->pgmpy) (2.2.0)\n",
            "Requirement already satisfied: nvidia-nvjitlink-cu12 in /usr/local/lib/python3.10/dist-packages (from nvidia-cusolver-cu12==11.4.5.107->torch->pgmpy) (12.4.127)\n",
            "Requirement already satisfied: six in /usr/local/lib/python3.10/dist-packages (from patsy>=0.5.4->statsmodels->pgmpy) (1.16.0)\n",
            "Requirement already satisfied: MarkupSafe>=2.0 in /usr/local/lib/python3.10/dist-packages (from jinja2->torch->pgmpy) (2.1.5)\n",
            "Requirement already satisfied: mpmath>=0.19 in /usr/local/lib/python3.10/dist-packages (from sympy->torch->pgmpy) (1.3.0)\n"
          ]
        }
      ]
    },
    {
      "cell_type": "code",
      "source": [
        "from pgmpy.models import BayesianNetwork\n",
        "\n",
        "# Define the structure of the Bayesian Network\n",
        "model = BayesianNetwork([\n",
        "    ('Smoke', 'Hospital'),  # Edge from Smoke to Hospital\n",
        "    ('Covid', 'Hospital')   # Edge from Covid to Hospital\n",
        "])"
      ],
      "metadata": {
        "id": "dTRUVmO7KGjG"
      },
      "execution_count": 13,
      "outputs": []
    },
    {
      "cell_type": "code",
      "source": [
        "# Define the Conditional Probability Distributions (CPDs)\n",
        "\n",
        "from pgmpy.factors.discrete import TabularCPD\n",
        "\n",
        "# CPD for Smoke\n",
        "cpd_smoke = TabularCPD(variable='Smoke', variable_card=2, values=[[0.25], [0.75]], state_names={'Smoke': ['yes', 'no']})\n",
        "\n",
        "# CPD for Covid\n",
        "cpd_covid = TabularCPD(variable='Covid', variable_card=2, values=[[0.1], [0.9]], state_names={'Covid': ['yes', 'no']})\n",
        "\n",
        "# CPD for Hospital\n",
        "cpd_hospital = TabularCPD(variable='Hospital', variable_card=2,\n",
        "                          values=[[0.9, 0.1, 0.9, 0.01],  # Probabilities for Hospital=yes\n",
        "                                  [0.1, 0.9, 0.1, 0.99]], # Probabilities for Hospital=no\n",
        "                          evidence=['Smoke', 'Covid'],\n",
        "                          evidence_card=[2, 2],\n",
        "                          state_names={'Hospital': ['yes', 'no'], 'Smoke': ['yes', 'no'], 'Covid': ['yes', 'no']})\n",
        "\n",
        "# Add CPDs to the model\n",
        "model.add_cpds(cpd_smoke, cpd_covid, cpd_hospital)\n",
        "\n",
        "#-----------------#\n",
        "#----- NOTES -----#\n",
        "#-----------------#\n",
        "\n",
        "# In the CPD for Hospital, the probabilities are ordered according to the Cartesian product of the evidence variables' states,\n",
        "# i.e., ['Smoke_yes', 'Covid_yes'], ['Smoke_yes', 'Covid_no'], ['Smoke_no', 'Covid_yes'], and ['Smoke_no', 'Covid_no'].\n",
        "\n",
        "# state_names parameter in each CPD is optional but helps make the output more interpretable.\n",
        "\n",
        "# This example assumes binary states (yes/no) for simplicity, but pgmpy supports nodes with multiple states.\n",
        "\n",
        "# The term evidence_card refers to the cardinality of the evidence variables. It specifies the number of states (or distinct values) that each evidence variable can take.\n"
      ],
      "metadata": {
        "id": "uXchXAZdKkME"
      },
      "execution_count": 14,
      "outputs": []
    },
    {
      "cell_type": "code",
      "source": [
        "from pgmpy.inference import VariableElimination\n",
        "\n",
        "# VariableElimination in pgmpy performs exact inference in Bayesian Networks\n",
        "# by systematically eliminating variables, computing marginal distributions\n",
        "# of interest or conditional distributions given evidence, optimizing\n",
        "# computational efficiency through the order of elimination.\n",
        "\n",
        "inference = VariableElimination(model)\n",
        "\n",
        "# Probability of Hospitalization given Smoke=yes and Covid=yes\n",
        "prob_hospital = inference.query(variables=['Hospital'], evidence={'Smoke': 'yes', 'Covid': 'yes'})\n",
        "print(prob_hospital)\n"
      ],
      "metadata": {
        "colab": {
          "base_uri": "https://localhost:8080/"
        },
        "id": "xSkMoV59K7El",
        "outputId": "cc009d80-4d84-4ff0-8be4-30907291cc5d"
      },
      "execution_count": 15,
      "outputs": [
        {
          "output_type": "stream",
          "name": "stdout",
          "text": [
            "+---------------+-----------------+\n",
            "| Hospital      |   phi(Hospital) |\n",
            "+===============+=================+\n",
            "| Hospital(yes) |          0.9000 |\n",
            "+---------------+-----------------+\n",
            "| Hospital(no)  |          0.1000 |\n",
            "+---------------+-----------------+\n"
          ]
        }
      ]
    },
    {
      "cell_type": "code",
      "source": [
        "# Probability of Covid given Smoke=yes and Hospital=yes\n",
        "prob_covid = inference.query(variables=['Covid'], evidence={'Smoke': 'yes', 'Hospital': 'yes'})\n",
        "print(prob_covid)"
      ],
      "metadata": {
        "colab": {
          "base_uri": "https://localhost:8080/"
        },
        "id": "N72apoNsL8p5",
        "outputId": "44d024cd-52fe-4b85-d592-7c36a774991a"
      },
      "execution_count": 16,
      "outputs": [
        {
          "output_type": "stream",
          "name": "stdout",
          "text": [
            "+------------+--------------+\n",
            "| Covid      |   phi(Covid) |\n",
            "+============+==============+\n",
            "| Covid(yes) |       0.5000 |\n",
            "+------------+--------------+\n",
            "| Covid(no)  |       0.5000 |\n",
            "+------------+--------------+\n"
          ]
        }
      ]
    },
    {
      "cell_type": "markdown",
      "source": [
        "### A more \"complex\" Network"
      ],
      "metadata": {
        "id": "I9j8gZrg6qJ5"
      }
    },
    {
      "cell_type": "markdown",
      "source": [
        "<img src=\"./images/bayes_theorem.jpeg\" width=\"500\"/>\n"
      ],
      "metadata": {
        "id": "wEsd7kap8zxH"
      }
    },
    {
      "cell_type": "code",
      "source": [
        "from pgmpy.models import BayesianNetwork\n",
        "from pgmpy.factors.discrete import TabularCPD\n",
        "from pgmpy.inference import VariableElimination\n",
        "\n",
        "# Define the structure of the Bayesian Network\n",
        "model_complex = BayesianNetwork([('P', 'C'), ('S', 'C'), ('C', 'X'), ('C', 'D')])\n",
        "\n",
        "# Define the Conditional Probability Distributions (CPDs)\n",
        "cpd_p = TabularCPD(variable='P', variable_card=2, values=[[0.1], [0.9]], state_names={'P': ['High', 'Low']})\n",
        "cpd_s = TabularCPD(variable='S', variable_card=2, values=[[0.7], [0.3]], state_names={'S': [False, True]})\n",
        "cpd_c = TabularCPD(variable='C', variable_card=2,\n",
        "                   values=[[0.95, 0.98, 0.97, 0.999],\n",
        "                           [0.05, 0.02, 0.03, 0.001]],\n",
        "                   evidence=['P', 'S'],\n",
        "                   evidence_card=[2, 2],\n",
        "                   state_names={'C': [False, True], 'P': ['High', 'Low'], 'S': [False, True]})\n",
        "cpd_x = TabularCPD(variable='X', variable_card=2,\n",
        "                   values=[[0.1, 0.8],\n",
        "                           [0.9, 0.2]],\n",
        "                   evidence=['C'],\n",
        "                   evidence_card=[2],\n",
        "                   state_names={'X': ['negative', 'positive'], 'C': [False, True]})\n",
        "cpd_d = TabularCPD(variable='D', variable_card=2,\n",
        "                   values=[[0.35, 0.7],\n",
        "                           [0.65, 0.3]],\n",
        "                   evidence=['C'],\n",
        "                   evidence_card=[2],\n",
        "                   state_names={'D': [False, True], 'C': [False, True]})\n",
        "\n",
        "# Add the CPDs to the model\n",
        "model_complex.add_cpds(cpd_p, cpd_s, cpd_c, cpd_x, cpd_d)\n",
        "\n",
        "# Validate the model\n",
        "assert model_complex.check_model()\n"
      ],
      "metadata": {
        "id": "jLd7jlqxMDxn"
      },
      "execution_count": 17,
      "outputs": []
    },
    {
      "cell_type": "code",
      "source": [
        "# Initialize the inference object\n",
        "infer = VariableElimination(model_complex)\n",
        "\n",
        "# Perform query\n",
        "result = infer.query(variables=['P'], evidence={'D': True, 'S': True})\n",
        "\n",
        "print(result)\n"
      ],
      "metadata": {
        "colab": {
          "base_uri": "https://localhost:8080/"
        },
        "id": "tP-1y6Ek6tL1",
        "outputId": "0b862098-a88f-47b9-86e8-68a4bce32830"
      },
      "execution_count": 18,
      "outputs": [
        {
          "output_type": "stream",
          "name": "stdout",
          "text": [
            "+---------+----------+\n",
            "| P       |   phi(P) |\n",
            "+=========+==========+\n",
            "| P(High) |   0.0991 |\n",
            "+---------+----------+\n",
            "| P(Low)  |   0.9009 |\n",
            "+---------+----------+\n"
          ]
        }
      ]
    },
    {
      "cell_type": "code",
      "source": [],
      "metadata": {
        "id": "L1H-dTmb6vn1"
      },
      "execution_count": 18,
      "outputs": []
    }
  ]
}