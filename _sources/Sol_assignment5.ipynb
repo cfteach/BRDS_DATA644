{
  "nbformat": 4,
  "nbformat_minor": 0,
  "metadata": {
    "colab": {
      "provenance": []
    },
    "kernelspec": {
      "name": "python3",
      "display_name": "Python 3"
    },
    "language_info": {
      "name": "python"
    }
  },
  "cells": [
    {
      "cell_type": "markdown",
      "source": [
        "## Solution to Assignment 5"
      ],
      "metadata": {
        "id": "t3W2XPrYKLFY"
      }
    },
    {
      "cell_type": "code",
      "source": [
        "%pip install pgmpy"
      ],
      "metadata": {
        "colab": {
          "base_uri": "https://localhost:8080/"
        },
        "id": "OcQ-ziel_yRm",
        "outputId": "9083242b-4e59-4f29-e023-b23c77382a66"
      },
      "execution_count": 1,
      "outputs": [
        {
          "output_type": "stream",
          "name": "stdout",
          "text": [
            "Collecting pgmpy\n",
            "  Downloading pgmpy-0.1.25-py3-none-any.whl (2.0 MB)\n",
            "\u001b[2K     \u001b[90m━━━━━━━━━━━━━━━━━━━━━━━━━━━━━━━━━━━━━━━━\u001b[0m \u001b[32m2.0/2.0 MB\u001b[0m \u001b[31m7.1 MB/s\u001b[0m eta \u001b[36m0:00:00\u001b[0m\n",
            "\u001b[?25hRequirement already satisfied: networkx in /usr/local/lib/python3.10/dist-packages (from pgmpy) (3.3)\n",
            "Requirement already satisfied: numpy in /usr/local/lib/python3.10/dist-packages (from pgmpy) (1.25.2)\n",
            "Requirement already satisfied: scipy in /usr/local/lib/python3.10/dist-packages (from pgmpy) (1.11.4)\n",
            "Requirement already satisfied: scikit-learn in /usr/local/lib/python3.10/dist-packages (from pgmpy) (1.2.2)\n",
            "Requirement already satisfied: pandas in /usr/local/lib/python3.10/dist-packages (from pgmpy) (2.0.3)\n",
            "Requirement already satisfied: pyparsing in /usr/local/lib/python3.10/dist-packages (from pgmpy) (3.1.2)\n",
            "Requirement already satisfied: torch in /usr/local/lib/python3.10/dist-packages (from pgmpy) (2.2.1+cu121)\n",
            "Requirement already satisfied: statsmodels in /usr/local/lib/python3.10/dist-packages (from pgmpy) (0.14.2)\n",
            "Requirement already satisfied: tqdm in /usr/local/lib/python3.10/dist-packages (from pgmpy) (4.66.4)\n",
            "Requirement already satisfied: joblib in /usr/local/lib/python3.10/dist-packages (from pgmpy) (1.4.2)\n",
            "Requirement already satisfied: opt-einsum in /usr/local/lib/python3.10/dist-packages (from pgmpy) (3.3.0)\n",
            "Requirement already satisfied: python-dateutil>=2.8.2 in /usr/local/lib/python3.10/dist-packages (from pandas->pgmpy) (2.8.2)\n",
            "Requirement already satisfied: pytz>=2020.1 in /usr/local/lib/python3.10/dist-packages (from pandas->pgmpy) (2023.4)\n",
            "Requirement already satisfied: tzdata>=2022.1 in /usr/local/lib/python3.10/dist-packages (from pandas->pgmpy) (2024.1)\n",
            "Requirement already satisfied: threadpoolctl>=2.0.0 in /usr/local/lib/python3.10/dist-packages (from scikit-learn->pgmpy) (3.5.0)\n",
            "Requirement already satisfied: patsy>=0.5.6 in /usr/local/lib/python3.10/dist-packages (from statsmodels->pgmpy) (0.5.6)\n",
            "Requirement already satisfied: packaging>=21.3 in /usr/local/lib/python3.10/dist-packages (from statsmodels->pgmpy) (24.0)\n",
            "Requirement already satisfied: filelock in /usr/local/lib/python3.10/dist-packages (from torch->pgmpy) (3.14.0)\n",
            "Requirement already satisfied: typing-extensions>=4.8.0 in /usr/local/lib/python3.10/dist-packages (from torch->pgmpy) (4.11.0)\n",
            "Requirement already satisfied: sympy in /usr/local/lib/python3.10/dist-packages (from torch->pgmpy) (1.12)\n",
            "Requirement already satisfied: jinja2 in /usr/local/lib/python3.10/dist-packages (from torch->pgmpy) (3.1.3)\n",
            "Requirement already satisfied: fsspec in /usr/local/lib/python3.10/dist-packages (from torch->pgmpy) (2023.6.0)\n",
            "Collecting nvidia-cuda-nvrtc-cu12==12.1.105 (from torch->pgmpy)\n",
            "  Using cached nvidia_cuda_nvrtc_cu12-12.1.105-py3-none-manylinux1_x86_64.whl (23.7 MB)\n",
            "Collecting nvidia-cuda-runtime-cu12==12.1.105 (from torch->pgmpy)\n",
            "  Using cached nvidia_cuda_runtime_cu12-12.1.105-py3-none-manylinux1_x86_64.whl (823 kB)\n",
            "Collecting nvidia-cuda-cupti-cu12==12.1.105 (from torch->pgmpy)\n",
            "  Using cached nvidia_cuda_cupti_cu12-12.1.105-py3-none-manylinux1_x86_64.whl (14.1 MB)\n",
            "Collecting nvidia-cudnn-cu12==8.9.2.26 (from torch->pgmpy)\n",
            "  Using cached nvidia_cudnn_cu12-8.9.2.26-py3-none-manylinux1_x86_64.whl (731.7 MB)\n",
            "Collecting nvidia-cublas-cu12==12.1.3.1 (from torch->pgmpy)\n",
            "  Using cached nvidia_cublas_cu12-12.1.3.1-py3-none-manylinux1_x86_64.whl (410.6 MB)\n",
            "Collecting nvidia-cufft-cu12==11.0.2.54 (from torch->pgmpy)\n",
            "  Using cached nvidia_cufft_cu12-11.0.2.54-py3-none-manylinux1_x86_64.whl (121.6 MB)\n",
            "Collecting nvidia-curand-cu12==10.3.2.106 (from torch->pgmpy)\n",
            "  Using cached nvidia_curand_cu12-10.3.2.106-py3-none-manylinux1_x86_64.whl (56.5 MB)\n",
            "Collecting nvidia-cusolver-cu12==11.4.5.107 (from torch->pgmpy)\n",
            "  Using cached nvidia_cusolver_cu12-11.4.5.107-py3-none-manylinux1_x86_64.whl (124.2 MB)\n",
            "Collecting nvidia-cusparse-cu12==12.1.0.106 (from torch->pgmpy)\n",
            "  Using cached nvidia_cusparse_cu12-12.1.0.106-py3-none-manylinux1_x86_64.whl (196.0 MB)\n",
            "Collecting nvidia-nccl-cu12==2.19.3 (from torch->pgmpy)\n",
            "  Using cached nvidia_nccl_cu12-2.19.3-py3-none-manylinux1_x86_64.whl (166.0 MB)\n",
            "Collecting nvidia-nvtx-cu12==12.1.105 (from torch->pgmpy)\n",
            "  Using cached nvidia_nvtx_cu12-12.1.105-py3-none-manylinux1_x86_64.whl (99 kB)\n",
            "Requirement already satisfied: triton==2.2.0 in /usr/local/lib/python3.10/dist-packages (from torch->pgmpy) (2.2.0)\n",
            "Collecting nvidia-nvjitlink-cu12 (from nvidia-cusolver-cu12==11.4.5.107->torch->pgmpy)\n",
            "  Using cached nvidia_nvjitlink_cu12-12.4.127-py3-none-manylinux2014_x86_64.whl (21.1 MB)\n",
            "Requirement already satisfied: six in /usr/local/lib/python3.10/dist-packages (from patsy>=0.5.6->statsmodels->pgmpy) (1.16.0)\n",
            "Requirement already satisfied: MarkupSafe>=2.0 in /usr/local/lib/python3.10/dist-packages (from jinja2->torch->pgmpy) (2.1.5)\n",
            "Requirement already satisfied: mpmath>=0.19 in /usr/local/lib/python3.10/dist-packages (from sympy->torch->pgmpy) (1.3.0)\n",
            "Installing collected packages: nvidia-nvtx-cu12, nvidia-nvjitlink-cu12, nvidia-nccl-cu12, nvidia-curand-cu12, nvidia-cufft-cu12, nvidia-cuda-runtime-cu12, nvidia-cuda-nvrtc-cu12, nvidia-cuda-cupti-cu12, nvidia-cublas-cu12, nvidia-cusparse-cu12, nvidia-cudnn-cu12, nvidia-cusolver-cu12, pgmpy\n",
            "Successfully installed nvidia-cublas-cu12-12.1.3.1 nvidia-cuda-cupti-cu12-12.1.105 nvidia-cuda-nvrtc-cu12-12.1.105 nvidia-cuda-runtime-cu12-12.1.105 nvidia-cudnn-cu12-8.9.2.26 nvidia-cufft-cu12-11.0.2.54 nvidia-curand-cu12-10.3.2.106 nvidia-cusolver-cu12-11.4.5.107 nvidia-cusparse-cu12-12.1.0.106 nvidia-nccl-cu12-2.19.3 nvidia-nvjitlink-cu12-12.4.127 nvidia-nvtx-cu12-12.1.105 pgmpy-0.1.25\n"
          ]
        }
      ]
    },
    {
      "cell_type": "code",
      "execution_count": 2,
      "metadata": {
        "id": "WpdyneAK_fS9"
      },
      "outputs": [],
      "source": [
        "# Q1) Build your Bayesian Network using pgmpy as shown in class. Make use of the Variable Elimination method.\n",
        "\n",
        "from pgmpy.models import BayesianNetwork\n",
        "from pgmpy.factors.discrete import TabularCPD\n",
        "from pgmpy.inference import VariableElimination\n",
        "\n",
        "# Define the structure of the Bayesian Network\n",
        "\n",
        "model_diabetes = BayesianNetwork([\n",
        "    ('Age', 'Diabetes'),\n",
        "    ('Lifestyle', 'Diabetes'),\n",
        "    ('FamilyHistory', 'Diabetes'),\n",
        "    ('Diabetes', 'BloodTests'),\n",
        "    ('Diabetes', 'CardioRisk'),\n",
        "    ('Cholesterol', 'CardioRisk'),\n",
        "    ('Hypertension', 'CardioRisk')\n",
        "])\n",
        "# Define the Conditional Probability Distributions (CPDs)\n",
        "cpd_age = TabularCPD(variable='Age', variable_card=3,\n",
        "                     values=[[0.4], [0.4], [0.2]], state_names={'Age': ['Young', 'Middle-aged', 'Elderly']})\n",
        "\n",
        "cpd_lifestyle = TabularCPD(variable='Lifestyle', variable_card=2,\n",
        "                           values=[[0.7], [0.3]], state_names={'Lifestyle': ['Unhealthy', 'Healthy']})\n",
        "\n",
        "cpd_familyhistory = TabularCPD(variable='FamilyHistory', variable_card=2,\n",
        "                               values=[[0.85], [0.15]], state_names={'FamilyHistory': ['Absent', 'Present']})\n",
        "\n",
        "\n",
        "cpd_cholesterol = TabularCPD(variable='Cholesterol', variable_card=2,\n",
        "                             values=[[0.5], [0.5]],\n",
        "                             state_names={'Cholesterol': ['Normal', 'High']})\n",
        "\n",
        "cpd_hypertension = TabularCPD(variable='Hypertension', variable_card=2,\n",
        "                              values=[[0.6], [0.4]],\n",
        "                              state_names={'Hypertension': ['No', 'Yes']})\n",
        "\n",
        "\n",
        "cpd_diabetes = TabularCPD(variable='Diabetes', variable_card=2,\n",
        "                          values=[\n",
        "                            [0.97, 0.93, 0.99, 0.95, 0.81, 0.77, 0.88, 0.81, 0.65, 0.61, 0.78, 0.70], # No Diabetes\n",
        "                            [0.03, 0.07, 0.01, 0.05, 0.19, 0.23, 0.12, 0.19, 0.35, 0.39, 0.22, 0.30]  # Yes Diabetes\n",
        "                          ],\n",
        "                          evidence=['Age', 'Lifestyle', 'FamilyHistory'],\n",
        "                          evidence_card=[3, 2, 2],\n",
        "                          state_names={'Diabetes': ['No', 'Yes'], 'Age': ['Young', 'Middle-aged', 'Elderly'], 'Lifestyle': ['Unhealthy', 'Healthy'], 'FamilyHistory': ['Absent', 'Present']})\n",
        "\n",
        "cpd_bloodtests = TabularCPD(variable='BloodTests', variable_card=2,\n",
        "                            values=[[0.7, 0.3],\n",
        "                                    [0.3, 0.7]],\n",
        "                            evidence=['Diabetes'],\n",
        "                            evidence_card=[2],\n",
        "                            state_names={'BloodTests': ['Normal', 'Abnormal'], 'Diabetes': ['No', 'Yes']}\n",
        "                            )\n",
        "\n",
        "\n",
        "cpd_cardiorisk = TabularCPD(variable='CardioRisk', variable_card=2,\n",
        "                            values=[\n",
        "                                [0.9, 0.7, 0.8, 0.6, 0.85, 0.65, 0.75, 0.55],  # Low Risk\n",
        "                                [0.1, 0.3, 0.2, 0.4, 0.15, 0.35, 0.25, 0.45]   # High Risk\n",
        "                            ],\n",
        "                            evidence=['Diabetes', 'Cholesterol', 'Hypertension'],\n",
        "                            evidence_card=[2, 2, 2],\n",
        "                            state_names={'CardioRisk': ['Low', 'High'], 'Diabetes': ['No', 'Yes'], 'Cholesterol': ['Normal', 'High'], 'Hypertension': ['No', 'Yes']}\n",
        "                            )\n",
        "\n",
        "\n",
        "# Add all CPDs to the model\n",
        "model_diabetes.add_cpds(cpd_age, cpd_lifestyle, cpd_familyhistory, cpd_cholesterol, cpd_hypertension, cpd_diabetes, cpd_bloodtests, cpd_cardiorisk)\n",
        "\n",
        "\n",
        "# Validate the model\n",
        "assert model_diabetes.check_model()\n"
      ]
    },
    {
      "cell_type": "code",
      "source": [
        "# Initialize the inference object\n",
        "infer = VariableElimination(model_diabetes)\n"
      ],
      "metadata": {
        "id": "NlKTSah7DTi1"
      },
      "execution_count": 3,
      "outputs": []
    },
    {
      "cell_type": "code",
      "source": [
        "# Q2a) What is the probability of diabetes given being elderly, unhealthy lifestyle, and with family history present?\n",
        "query_result = infer.query(variables=['Diabetes'], evidence={'Age': 'Elderly', 'Lifestyle': 'Unhealthy', 'FamilyHistory': 'Present'})\n",
        "print(query_result)"
      ],
      "metadata": {
        "colab": {
          "base_uri": "https://localhost:8080/"
        },
        "id": "mRT37as_Ghgh",
        "outputId": "ae182f60-4d52-4c23-a9e5-a5ad9e716247"
      },
      "execution_count": 5,
      "outputs": [
        {
          "output_type": "stream",
          "name": "stdout",
          "text": [
            "+---------------+-----------------+\n",
            "| Diabetes      |   phi(Diabetes) |\n",
            "+===============+=================+\n",
            "| Diabetes(No)  |          0.6100 |\n",
            "+---------------+-----------------+\n",
            "| Diabetes(Yes) |          0.3900 |\n",
            "+---------------+-----------------+\n"
          ]
        }
      ]
    },
    {
      "cell_type": "code",
      "source": [
        "# Q2b)  What is the probability of diabetes given being elderly, unhealthy lifestyle, family history present and cardio risk being high?\n",
        "query_result = infer.query(variables=['Diabetes'], evidence={'Age': 'Elderly', 'Lifestyle': 'Unhealthy', 'FamilyHistory': 'Present', 'CardioRisk': 'High'})\n",
        "print(query_result)"
      ],
      "metadata": {
        "colab": {
          "base_uri": "https://localhost:8080/"
        },
        "id": "LrYHzX5oWC6a",
        "outputId": "4cb51952-e2f1-4155-85bf-a57ddcb997a6"
      },
      "execution_count": 6,
      "outputs": [
        {
          "output_type": "stream",
          "name": "stdout",
          "text": [
            "+---------------+-----------------+\n",
            "| Diabetes      |   phi(Diabetes) |\n",
            "+===============+=================+\n",
            "| Diabetes(No)  |          0.5623 |\n",
            "+---------------+-----------------+\n",
            "| Diabetes(Yes) |          0.4377 |\n",
            "+---------------+-----------------+\n"
          ]
        }
      ]
    },
    {
      "cell_type": "code",
      "source": [
        "# Q2c) What is the probability of diabetes given being elderly, unhealthy lifestyle, family history present, cardio risk being high and knowing that cholesterol is high and hypertension is present?\n",
        "query_result = infer.query(variables=['Diabetes'], evidence={'Age': 'Elderly', 'Lifestyle': 'Unhealthy', 'FamilyHistory': 'Present', 'CardioRisk': 'High', 'Cholesterol': 'High', 'Hypertension':'Yes'})\n",
        "print(query_result)\n"
      ],
      "metadata": {
        "colab": {
          "base_uri": "https://localhost:8080/"
        },
        "id": "sRv7ryVpWSqM",
        "outputId": "0eb6448b-3583-4074-b8af-0c59f0049d1c"
      },
      "execution_count": 7,
      "outputs": [
        {
          "output_type": "stream",
          "name": "stdout",
          "text": [
            "+---------------+-----------------+\n",
            "| Diabetes      |   phi(Diabetes) |\n",
            "+===============+=================+\n",
            "| Diabetes(No)  |          0.5816 |\n",
            "+---------------+-----------------+\n",
            "| Diabetes(Yes) |          0.4184 |\n",
            "+---------------+-----------------+\n"
          ]
        }
      ]
    },
    {
      "cell_type": "code",
      "source": [
        "# Bonus1) What is the probability of diabetes given being elderly, unhealthy lifestyle, family history present, knowing that cholesterol is high and hypertension is present? Does it change compared to Question 2c?\n",
        "query_result = infer.query(variables=['Diabetes'], evidence={'Age': 'Elderly', 'Lifestyle': 'Unhealthy', 'FamilyHistory': 'Present', 'Cholesterol': 'High', 'Hypertension':'Yes'})\n",
        "print(query_result)\n"
      ],
      "metadata": {
        "colab": {
          "base_uri": "https://localhost:8080/"
        },
        "id": "wjK4WdvsWj0b",
        "outputId": "1a9dd51d-d503-4d38-a14a-49f22aab4dd3"
      },
      "execution_count": 8,
      "outputs": [
        {
          "output_type": "stream",
          "name": "stdout",
          "text": [
            "+---------------+-----------------+\n",
            "| Diabetes      |   phi(Diabetes) |\n",
            "+===============+=================+\n",
            "| Diabetes(No)  |          0.6100 |\n",
            "+---------------+-----------------+\n",
            "| Diabetes(Yes) |          0.3900 |\n",
            "+---------------+-----------------+\n"
          ]
        }
      ]
    },
    {
      "cell_type": "code",
      "source": [
        "# Bonus 2) Is the probability of Blood Tests conditioned by Hypertension? Please motivate your answer.\n",
        "query_result = infer.query(variables=['BloodTests'], evidence={'Hypertension':'Yes'})\n",
        "print(query_result)"
      ],
      "metadata": {
        "colab": {
          "base_uri": "https://localhost:8080/"
        },
        "id": "-mk75GdtWv-K",
        "outputId": "f339baa6-de1c-4582-84b6-59f1c9a79e0a"
      },
      "execution_count": null,
      "outputs": [
        {
          "output_type": "stream",
          "name": "stdout",
          "text": [
            "+----------------------+-------------------+\n",
            "| BloodTests           |   phi(BloodTests) |\n",
            "+======================+===================+\n",
            "| BloodTests(Normal)   |            0.6415 |\n",
            "+----------------------+-------------------+\n",
            "| BloodTests(Abnormal) |            0.3585 |\n",
            "+----------------------+-------------------+\n"
          ]
        }
      ]
    },
    {
      "cell_type": "code",
      "source": [
        "query_result = infer.query(variables=['BloodTests'], evidence={'Hypertension':'No'})\n",
        "print(query_result)"
      ],
      "metadata": {
        "colab": {
          "base_uri": "https://localhost:8080/"
        },
        "id": "Oh6Aqc42HY_X",
        "outputId": "4c1af79c-8800-41e2-db56-6447b8c04146"
      },
      "execution_count": 9,
      "outputs": [
        {
          "output_type": "stream",
          "name": "stdout",
          "text": [
            "+----------------------+-------------------+\n",
            "| BloodTests           |   phi(BloodTests) |\n",
            "+======================+===================+\n",
            "| BloodTests(Normal)   |            0.6415 |\n",
            "+----------------------+-------------------+\n",
            "| BloodTests(Abnormal) |            0.3585 |\n",
            "+----------------------+-------------------+\n"
          ]
        }
      ]
    },
    {
      "cell_type": "markdown",
      "source": [
        "We see that the results of blood tests are independent of hypertension."
      ],
      "metadata": {
        "id": "eODRnds5HfK9"
      }
    },
    {
      "cell_type": "code",
      "source": [
        "# Bonus 3) What sanity checks can you perform to ensure that your network is properly encoded? Please expand upon and justify your strategies."
      ],
      "metadata": {
        "id": "KIkFdHRSZAgB"
      },
      "execution_count": 10,
      "outputs": []
    }
  ]
}