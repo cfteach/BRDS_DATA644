{
  "cells": [
    {
      "cell_type": "markdown",
      "metadata": {
        "id": "MvQAt1LHOSft"
      },
      "source": [
        "## Notebook Setup"
      ]
    },
    {
      "cell_type": "code",
      "execution_count": 1,
      "metadata": {
        "id": "N_z3I3LWajG0"
      },
      "outputs": [],
      "source": [
        "import torch\n",
        "import torch.nn as nn\n",
        "import torch.optim as optim\n",
        "from torch.utils.data import DataLoader\n",
        "from torchvision import datasets, transforms # It provides utilities for working with image data\n",
        "from torch.distributions import Normal, kl_divergence\n",
        "import matplotlib.pyplot as plt\n",
        "import numpy as np\n",
        "import random"
      ]
    },
    {
      "cell_type": "markdown",
      "source": [
        "### Setup device"
      ],
      "metadata": {
        "id": "XC5mbB_C4-av"
      }
    },
    {
      "cell_type": "code",
      "execution_count": 2,
      "metadata": {
        "id": "y9_gUNklfhYo",
        "colab": {
          "base_uri": "https://localhost:8080/"
        },
        "outputId": "c4f7b65b-1b5f-49c2-8bd2-39a5bbac20a0"
      },
      "outputs": [
        {
          "output_type": "stream",
          "name": "stdout",
          "text": [
            "Using device: cuda\n"
          ]
        }
      ],
      "source": [
        "device = torch.device(\"cuda\" if torch.cuda.is_available() else \"cpu\")\n",
        "print(f\"Using device: {device}\")"
      ]
    },
    {
      "cell_type": "markdown",
      "source": [
        "### Convolutional Neural Network\n",
        "\n",
        "![Animation](https://miro.medium.com/v2/resize:fit:720/format:webp/1*fXxDBsJ96FKEtMOa9vNgjA.gif)\n"
      ],
      "metadata": {
        "id": "8t3NZk2HMVis"
      }
    },
    {
      "cell_type": "markdown",
      "source": [
        "![Description or Title of Image](https://drive.google.com/uc?export=view&id=1mqhBcWGbRI2rEttnv2t-y9NLYasaD5pI)\n"
      ],
      "metadata": {
        "id": "CVgdrsnMSWiW"
      }
    },
    {
      "cell_type": "markdown",
      "source": [
        "### Define Bayesian Layers and Network"
      ],
      "metadata": {
        "id": "vvFd8ZMD5BmZ"
      }
    },
    {
      "cell_type": "code",
      "execution_count": 3,
      "metadata": {
        "id": "ulWaiqdYdLiL"
      },
      "outputs": [],
      "source": [
        "class BayesianConv2d(nn.Module):\n",
        "    def __init__(self, in_channels, out_channels, kernel_size, stride=1, padding=0):\n",
        "        super(BayesianConv2d, self).__init__()\n",
        "        self.in_channels = in_channels\n",
        "        self.out_channels = out_channels\n",
        "        self.kernel_size = kernel_size\n",
        "        self.stride = stride\n",
        "        self.padding = padding\n",
        "\n",
        "        # Parameters registration for the mean and the standard deviation of the weights\n",
        "        self.weight_mu = nn.Parameter(torch.Tensor(out_channels, in_channels, kernel_size, kernel_size))\n",
        "        self.weight_rho = nn.Parameter(torch.Tensor(out_channels, in_channels, kernel_size, kernel_size))\n",
        "        self.bias_mu = nn.Parameter(torch.Tensor(out_channels))\n",
        "        self.bias_rho = nn.Parameter(torch.Tensor(out_channels))\n",
        "\n",
        "        # Initialize parameters\n",
        "        self.reset_parameters() #--- initializes the parameters of the BayesianConv2d layer.\n",
        "\n",
        "    def reset_parameters(self):\n",
        "        nn.init.kaiming_uniform_(self.weight_mu, mode='fan_out', nonlinearity='relu') #--- Kaiming Initialization is an initialization method for NN that takes into account the non-linearity of activation functions.\n",
        "        nn.init.constant_(self.weight_rho, -3)\n",
        "        nn.init.constant_(self.bias_mu, 0)\n",
        "        nn.init.constant_(self.bias_rho, -3)\n",
        "\n",
        "    #---- The function torch.exp() computes the exponential of the input, which grows very fast. Therefore, initializing weight_rho and bias_rho with negative values helps to start with a smaller standard deviation.\n",
        "\n",
        "    def forward(self, input):\n",
        "        # Calculate the standard deviation from rho parameter\n",
        "        weight_sigma = torch.log1p(torch.exp(self.weight_rho)) # torch.log1p function in PyTorch is used to compute the natural logarithm of one plus the input value, useful when argument is small\n",
        "        bias_sigma = torch.log1p(torch.exp(self.bias_rho))\n",
        "\n",
        "        # Sample weights and biases from the normal distributions defined by mu and sigma\n",
        "        weight = Normal(self.weight_mu, weight_sigma).rsample() #--- reparameterized sample, allowing gradients to flow through the random sampling process\n",
        "        bias = Normal(self.bias_mu, bias_sigma).rsample()\n",
        "        #---- see reparametrization trick\n",
        "\n",
        "        # Perform the convolution\n",
        "        return nn.functional.conv2d(input, weight, bias, self.stride, self.padding)\n",
        "        #--- the sampled weights and biases are used to perform a convolution operation on the input.\n",
        "\n",
        "    def kl_loss(self):\n",
        "        # Calculate the KL divergence loss for each layer\n",
        "        weight_prior = Normal(0, 1)\n",
        "        bias_prior = Normal(0, 1)\n",
        "        weight_post = Normal(self.weight_mu, torch.log1p(torch.exp(self.weight_rho)))\n",
        "        bias_post = Normal(self.bias_mu, torch.log1p(torch.exp(self.bias_rho)))\n",
        "        return kl_divergence(weight_post, weight_prior).sum() + kl_divergence(bias_post, bias_prior).sum()\n"
      ]
    },
    {
      "cell_type": "markdown",
      "source": [
        "\n",
        "> In Bayesian neural networks, parameters are not fixed but are assumed to be drawn from probability distributions. The KL divergence helps in regularizing these distributions during training by measuring how much the learned distributions (posterior distributions) of the model parameters deviate from prior distributions.\n",
        "\n",
        "> By minimizing the KL divergence, you effectively encourage the posterior distributions of the weights and biases to be close to the prior distributions. This is important because it incorporates a Bayesian update of beliefs about model parameters, balancing the fit to the data against the complexity of the model.\n",
        "\n",
        "> Including the KL divergence in the training loss allows the network to balance between fitting the complex patterns in the data (learning from the data) and maintaining a simpler, more general model (sticking close to the prior). This helps in preventing overfitting, especially when dealing with limited data.\n",
        "\n",
        "> Minimizing the KL divergence in the context of Bayesian inference is akin to maximizing the posterior probability of the model parameters given the data, under the constraints set by the prior. This adds a probabilistic interpretation to the learning process, providing not just point estimates but distributions over possible values of parameters. KL-loss integrates prior knowledge.\n",
        "\n",
        "\n"
      ],
      "metadata": {
        "id": "2Ro4x2RgbYgU"
      }
    },
    {
      "cell_type": "code",
      "execution_count": 4,
      "metadata": {
        "id": "HdCwDAQQdUul"
      },
      "outputs": [],
      "source": [
        "class BayesianCNN(nn.Module):\n",
        "    def __init__(self):\n",
        "        super(BayesianCNN, self).__init__()\n",
        "        self.conv1 = BayesianConv2d(1, 20, kernel_size=5, stride=1, padding=2)\n",
        "        self.relu = nn.ReLU()\n",
        "        self.pool = nn.MaxPool2d(kernel_size=2, stride=2)\n",
        "        self.conv2 = BayesianConv2d(20, 50, kernel_size=5, stride=1, padding=2)\n",
        "        self.fc1 = nn.Linear(50 * 7 * 7, 500) #---- fc: fully connected\n",
        "        self.fc2 = nn.Linear(500, 10)\n",
        "        # Given that the pooling layers reduce the dimensions of the feature maps and the original size\n",
        "        # of the MNIST images is 28x28, after two pooling operations with a stride of 2\n",
        "        # and padding that maintains the dimension post-convolution, the dimension is reduced to 28/2/2 = 7\n",
        "\n",
        "    def forward(self, x):\n",
        "        x = self.pool(self.relu(self.conv1(x)))\n",
        "        x = self.pool(self.relu(self.conv2(x)))\n",
        "        x = x.view(x.size(0), -1)\n",
        "        x = self.relu(self.fc1(x))\n",
        "        return self.fc2(x)\n",
        "\n",
        "    def kl_loss(self):\n",
        "        # Aggregate KL divergence losses from all Bayesian layers\n",
        "        return self.conv1.kl_loss() + self.conv2.kl_loss()\n"
      ]
    },
    {
      "cell_type": "markdown",
      "source": [
        "### Data Preparation\n",
        "\n",
        "Load and prepare the MNIST dataset for training and testing.\n",
        "\n"
      ],
      "metadata": {
        "id": "yGiy69-O5N_x"
      }
    },
    {
      "cell_type": "code",
      "execution_count": 5,
      "metadata": {
        "id": "9XcWhcZHdXq_",
        "colab": {
          "base_uri": "https://localhost:8080/"
        },
        "outputId": "b2b98f72-04df-4c6a-c729-5ce6ed1fa84f"
      },
      "outputs": [
        {
          "output_type": "stream",
          "name": "stdout",
          "text": [
            "Downloading http://yann.lecun.com/exdb/mnist/train-images-idx3-ubyte.gz\n",
            "Downloading http://yann.lecun.com/exdb/mnist/train-images-idx3-ubyte.gz to ./data/MNIST/raw/train-images-idx3-ubyte.gz\n",
            "Failed to download (trying next):\n",
            "HTTP Error 503: Service Unavailable\n",
            "\n",
            "Downloading https://ossci-datasets.s3.amazonaws.com/mnist/train-images-idx3-ubyte.gz\n",
            "Downloading https://ossci-datasets.s3.amazonaws.com/mnist/train-images-idx3-ubyte.gz to ./data/MNIST/raw/train-images-idx3-ubyte.gz\n"
          ]
        },
        {
          "output_type": "stream",
          "name": "stderr",
          "text": [
            "100%|██████████| 9912422/9912422 [00:00<00:00, 17896744.01it/s]\n"
          ]
        },
        {
          "output_type": "stream",
          "name": "stdout",
          "text": [
            "Extracting ./data/MNIST/raw/train-images-idx3-ubyte.gz to ./data/MNIST/raw\n",
            "\n",
            "Downloading http://yann.lecun.com/exdb/mnist/train-labels-idx1-ubyte.gz\n",
            "Downloading http://yann.lecun.com/exdb/mnist/train-labels-idx1-ubyte.gz to ./data/MNIST/raw/train-labels-idx1-ubyte.gz\n"
          ]
        },
        {
          "output_type": "stream",
          "name": "stderr",
          "text": [
            "100%|██████████| 28881/28881 [00:00<00:00, 404511.07it/s]\n"
          ]
        },
        {
          "output_type": "stream",
          "name": "stdout",
          "text": [
            "Extracting ./data/MNIST/raw/train-labels-idx1-ubyte.gz to ./data/MNIST/raw\n",
            "\n",
            "Downloading http://yann.lecun.com/exdb/mnist/t10k-images-idx3-ubyte.gz\n",
            "Downloading http://yann.lecun.com/exdb/mnist/t10k-images-idx3-ubyte.gz to ./data/MNIST/raw/t10k-images-idx3-ubyte.gz\n",
            "Failed to download (trying next):\n",
            "HTTP Error 503: Service Unavailable\n",
            "\n",
            "Downloading https://ossci-datasets.s3.amazonaws.com/mnist/t10k-images-idx3-ubyte.gz\n",
            "Downloading https://ossci-datasets.s3.amazonaws.com/mnist/t10k-images-idx3-ubyte.gz to ./data/MNIST/raw/t10k-images-idx3-ubyte.gz\n"
          ]
        },
        {
          "output_type": "stream",
          "name": "stderr",
          "text": [
            "100%|██████████| 1648877/1648877 [00:00<00:00, 4389233.51it/s]\n"
          ]
        },
        {
          "output_type": "stream",
          "name": "stdout",
          "text": [
            "Extracting ./data/MNIST/raw/t10k-images-idx3-ubyte.gz to ./data/MNIST/raw\n",
            "\n",
            "Downloading http://yann.lecun.com/exdb/mnist/t10k-labels-idx1-ubyte.gz\n",
            "Downloading http://yann.lecun.com/exdb/mnist/t10k-labels-idx1-ubyte.gz to ./data/MNIST/raw/t10k-labels-idx1-ubyte.gz\n",
            "Failed to download (trying next):\n",
            "HTTP Error 503: Service Unavailable\n",
            "\n",
            "Downloading https://ossci-datasets.s3.amazonaws.com/mnist/t10k-labels-idx1-ubyte.gz\n",
            "Downloading https://ossci-datasets.s3.amazonaws.com/mnist/t10k-labels-idx1-ubyte.gz to ./data/MNIST/raw/t10k-labels-idx1-ubyte.gz\n"
          ]
        },
        {
          "output_type": "stream",
          "name": "stderr",
          "text": [
            "100%|██████████| 4542/4542 [00:00<00:00, 3075642.36it/s]"
          ]
        },
        {
          "output_type": "stream",
          "name": "stdout",
          "text": [
            "Extracting ./data/MNIST/raw/t10k-labels-idx1-ubyte.gz to ./data/MNIST/raw\n",
            "\n"
          ]
        },
        {
          "output_type": "stream",
          "name": "stderr",
          "text": [
            "\n"
          ]
        }
      ],
      "source": [
        "# Transformations applied on each image\n",
        "transform = transforms.Compose([\n",
        "    transforms.ToTensor(),\n",
        "    transforms.Normalize((0.5,), (0.5,))\n",
        "])\n",
        "\n",
        "# Loading MNIST dataset\n",
        "train_dataset = datasets.MNIST(root='./data', train=True, transform=transform, download=True)\n",
        "test_dataset = datasets.MNIST(root='./data', train=False, transform=transform, download=True)\n",
        "\n",
        "# Data loaders\n",
        "train_loader = DataLoader(train_dataset, batch_size=64, shuffle=True)\n",
        "test_loader = DataLoader(test_dataset, batch_size=64, shuffle=False)\n"
      ]
    },
    {
      "cell_type": "markdown",
      "source": [
        "### Training and Testing"
      ],
      "metadata": {
        "id": "y1J6A8LI5UFL"
      }
    },
    {
      "cell_type": "code",
      "execution_count": 6,
      "metadata": {
        "id": "-iRaxquldiFE"
      },
      "outputs": [],
      "source": [
        "def train(model, optimizer, criterion, epochs):\n",
        "    model.train()\n",
        "    for epoch in range(epochs):\n",
        "        total_loss = 0\n",
        "        for images, labels in train_loader:\n",
        "            images, labels = images.to(device), labels.to(device)\n",
        "            optimizer.zero_grad() # Clears old gradients from the last step (otherwise gradients would be accumulated to existing gradients from previous steps).\n",
        "            output = model(images)\n",
        "            kl = model.kl_loss()\n",
        "            loss = criterion(output, labels) + kl / len(train_dataset)\n",
        "            loss.backward() # Computes the gradient of the loss function with respect to the network weights\n",
        "            optimizer.step() # Updates the weights of the network based on the gradients computed during loss.backward\n",
        "            total_loss += loss.item() # extract scalar value\n",
        "        print(f'Epoch {epoch+1}, Loss: {total_loss / len(train_loader)}')\n"
      ]
    },
    {
      "cell_type": "code",
      "execution_count": 7,
      "metadata": {
        "id": "OqtRuEvidknQ"
      },
      "outputs": [],
      "source": [
        "def test(model, mc_samples=10):\n",
        "    model.eval()\n",
        "    total = 0\n",
        "    correct = 0\n",
        "    with torch.no_grad():\n",
        "        for images, labels in test_loader:\n",
        "            images, labels = images.to(device), labels.to(device)\n",
        "            outputs = torch.stack([model(images) for _ in range(mc_samples)])\n",
        "            mean_outputs = outputs.mean(0)\n",
        "            pred = mean_outputs.max(1, keepdim=True)[1]\n",
        "            correct += pred.eq(labels.view_as(pred)).sum().item()\n",
        "            total += labels.size(0)\n",
        "\n",
        "    return correct, total, outputs, labels"
      ]
    },
    {
      "cell_type": "code",
      "execution_count": 8,
      "metadata": {
        "id": "2zrwiVOGdmZG"
      },
      "outputs": [],
      "source": [
        "model = BayesianCNN().to(device)\n"
      ]
    },
    {
      "cell_type": "code",
      "execution_count": 9,
      "metadata": {
        "id": "v25vojeldoQP",
        "colab": {
          "base_uri": "https://localhost:8080/"
        },
        "outputId": "9bb0827a-b471-4bce-9e38-4667ac43ec35"
      },
      "outputs": [
        {
          "output_type": "stream",
          "name": "stdout",
          "text": [
            "Epoch 1, Loss: 1.2622963481112075\n",
            "Epoch 2, Loss: 1.037250235772082\n",
            "Epoch 3, Loss: 0.9404514991779571\n",
            "Epoch 4, Loss: 0.8518502628371152\n",
            "Epoch 5, Loss: 0.7715727636681945\n"
          ]
        }
      ],
      "source": [
        "optimizer = optim.Adam(model.parameters(), lr=0.001)\n",
        "criterion = nn.CrossEntropyLoss()\n",
        "\n",
        "# Train the model\n",
        "train(model, optimizer, criterion, epochs=5)"
      ]
    },
    {
      "cell_type": "markdown",
      "source": [
        "### Analysis of Performance"
      ],
      "metadata": {
        "id": "XxLyjEAs69tM"
      }
    },
    {
      "cell_type": "code",
      "source": [
        "# Test the model and estimate uncertainty\n",
        "correct, total, outputs, labels = test(model,25)\n",
        "\n",
        "print(f'Accuracy: {100. * correct / total}%')"
      ],
      "metadata": {
        "colab": {
          "base_uri": "https://localhost:8080/"
        },
        "id": "uFMjWHIBlA24",
        "outputId": "dc830d34-0c91-46a2-9655-4e6b87cacf49"
      },
      "execution_count": 10,
      "outputs": [
        {
          "output_type": "stream",
          "name": "stdout",
          "text": [
            "Accuracy: 99.13%\n"
          ]
        }
      ]
    },
    {
      "cell_type": "code",
      "source": [
        "print(np.shape(outputs))\n",
        "print(np.shape(labels))"
      ],
      "metadata": {
        "colab": {
          "base_uri": "https://localhost:8080/"
        },
        "id": "9RBY71wxnbzB",
        "outputId": "bd3a1260-a8a5-4124-b61a-8a639c61f03b"
      },
      "execution_count": 11,
      "outputs": [
        {
          "output_type": "stream",
          "name": "stdout",
          "text": [
            "torch.Size([25, 16, 10])\n",
            "torch.Size([16])\n"
          ]
        }
      ]
    },
    {
      "cell_type": "markdown",
      "source": [
        "### Analysis"
      ],
      "metadata": {
        "id": "qMr7HtJsxxgY"
      }
    },
    {
      "cell_type": "code",
      "source": [
        "def display_image(image, label):\n",
        "    plt.imshow(image.squeeze(), cmap='gray')\n",
        "    plt.title(f'Actual Label: {label}')\n",
        "    plt.show()"
      ],
      "metadata": {
        "id": "HNNZRxdKxzOh"
      },
      "execution_count": 12,
      "outputs": []
    },
    {
      "cell_type": "code",
      "source": [
        "def predict_and_estimate_uncertainty(model, image, mc_samples=25):\n",
        "    model.eval()\n",
        "    with torch.no_grad():\n",
        "        outputs = torch.stack([model(image) for _ in range(mc_samples)])  # [mc_samples, 1, 10]\n",
        "        print(np.shape(outputs))\n",
        "        probabilities = torch.nn.functional.softmax(outputs, dim=2)\n",
        "        mean_probabilities = torch.mean(probabilities, dim=0)\n",
        "        std_probabilities = torch.std(probabilities, dim=0)\n",
        "\n",
        "        pred_label = mean_probabilities.argmax(dim=1).item()\n",
        "        max_prob = mean_probabilities.max(dim=1)[0].item()\n",
        "        uncertainty = std_probabilities.mean().item()\n",
        "\n",
        "    return pred_label, max_prob, uncertainty"
      ],
      "metadata": {
        "id": "MQASxpPJx7_H"
      },
      "execution_count": 13,
      "outputs": []
    },
    {
      "cell_type": "code",
      "source": [
        "# Randomly select an image from the test dataset\n",
        "random_idx = random.randint(0, len(test_dataset) - 1)\n",
        "image, label = test_dataset[random_idx]\n",
        "image = image.unsqueeze(0).to(device)  # Add batch dimension and send to device\n"
      ],
      "metadata": {
        "id": "VkJUbggXx9Md"
      },
      "execution_count": 14,
      "outputs": []
    },
    {
      "cell_type": "code",
      "source": [
        "# Display the image\n",
        "display_image(image.cpu().squeeze(), label)"
      ],
      "metadata": {
        "colab": {
          "base_uri": "https://localhost:8080/",
          "height": 452
        },
        "id": "Q8a3aS6gyFUV",
        "outputId": "a33d6afe-81f1-4a1c-85e0-c3e58d3ffa38"
      },
      "execution_count": 15,
      "outputs": [
        {
          "output_type": "display_data",
          "data": {
            "text/plain": [
              "<Figure size 640x480 with 1 Axes>"
            ],
            "image/png": "[encoded data removed]"
          },
          "metadata": {}
        }
      ]
    },
    {
      "cell_type": "code",
      "source": [
        "# Predict and estimate uncertainty\n",
        "predicted_label, probability, uncertainty = predict_and_estimate_uncertainty(model, image, mc_samples=25)\n"
      ],
      "metadata": {
        "colab": {
          "base_uri": "https://localhost:8080/"
        },
        "id": "07LoITSmyIJy",
        "outputId": "b6d49522-24d1-4e2a-9196-4d0d09690762"
      },
      "execution_count": 16,
      "outputs": [
        {
          "output_type": "stream",
          "name": "stdout",
          "text": [
            "torch.Size([25, 1, 10])\n"
          ]
        }
      ]
    },
    {
      "cell_type": "code",
      "source": [
        "print(f\"Predicted Label: {predicted_label}\")\n",
        "print(f\"Probability of Prediction: {probability:.4f}\")\n",
        "print(f\"Uncertainty of Prediction: {uncertainty:.4f}\")"
      ],
      "metadata": {
        "colab": {
          "base_uri": "https://localhost:8080/"
        },
        "id": "0Xxfsp6dyJy9",
        "outputId": "62a94e27-1415-4075-c4fe-3b41e533082a"
      },
      "execution_count": 17,
      "outputs": [
        {
          "output_type": "stream",
          "name": "stdout",
          "text": [
            "Predicted Label: 2\n",
            "Probability of Prediction: 0.9819\n",
            "Uncertainty of Prediction: 0.0048\n"
          ]
        }
      ]
    },
    {
      "cell_type": "code",
      "source": [
        "#------ Let's rotate the image"
      ],
      "metadata": {
        "id": "WjIZuyzUyMKG"
      },
      "execution_count": 18,
      "outputs": []
    },
    {
      "cell_type": "code",
      "source": [
        "from torchvision import transforms\n",
        "\n",
        "# Define a rotation transformation\n",
        "rotation_transform = transforms.RandomRotation(degrees=(-180, 180))\n",
        "\n",
        "def display_and_predict_with_rot(model, test_dataset, random_idx, mc_samples=10):\n",
        "    # Randomly select an image from the test dataset\n",
        "    #random_idx = random.randint(0, len(test_dataset) - 1)\n",
        "    image, label = test_dataset[random_idx]\n",
        "\n",
        "    # Convert to PIL Image to apply rotation, then convert back to tensor\n",
        "    pil_image = transforms.ToPILImage()(image)\n",
        "    rotated_image = rotation_transform(pil_image)\n",
        "    image = transforms.ToTensor()(rotated_image).unsqueeze(0).to(device)  # Add batch dimension and send to device\n",
        "\n",
        "    # Display the rotated image\n",
        "    display_image(image.cpu().squeeze(), label)\n",
        "\n",
        "    # Predict and estimate uncertainty\n",
        "    predicted_label, probability, uncertainty = predict_and_estimate_uncertainty(model, image, mc_samples=mc_samples)\n",
        "\n",
        "    print(f\"Predicted Label: {predicted_label}\")\n",
        "    print(f\"Probability of Prediction: {probability:.4f}\")\n",
        "    print(f\"Uncertainty of Prediction: {uncertainty:.4f}\")\n"
      ],
      "metadata": {
        "id": "Jjp9tVQVzWf7"
      },
      "execution_count": 19,
      "outputs": []
    },
    {
      "cell_type": "code",
      "source": [
        "# Call the function\n",
        "display_and_predict_with_rot(model, test_dataset, random_idx, mc_samples=50)"
      ],
      "metadata": {
        "colab": {
          "base_uri": "https://localhost:8080/",
          "height": 520
        },
        "id": "vx-Xrzz5zu5E",
        "outputId": "bcada47d-e490-4bb4-855b-c5fc819c1817"
      },
      "execution_count": 20,
      "outputs": [
        {
          "output_type": "display_data",
          "data": {
            "text/plain": [
              "<Figure size 640x480 with 1 Axes>"
            ],
            "image/png": "[encoded data removed]"
          },
          "metadata": {}
        },
        {
          "output_type": "stream",
          "name": "stdout",
          "text": [
            "torch.Size([50, 1, 10])\n",
            "Predicted Label: 7\n",
            "Probability of Prediction: 0.7036\n",
            "Uncertainty of Prediction: 0.0295\n"
          ]
        }
      ]
    },
    {
      "cell_type": "code",
      "source": [
        "#-------- adding noise"
      ],
      "metadata": {
        "id": "XYCRhxMT1my2"
      },
      "execution_count": 21,
      "outputs": []
    },
    {
      "cell_type": "code",
      "source": [
        "def add_gaussian_noise(image, mean=0., std=0.5):\n",
        "    \"\"\"Add Gaussian noise to an image.\"\"\"\n",
        "    noise = torch.randn(image.size()) * std + mean\n",
        "    noisy_image = image + noise\n",
        "    return torch.clamp(noisy_image, 0., 1.)  # Clamp to ensure the pixel values are valid\n",
        "\n",
        "def display_and_predict_with_noise(model, test_dataset, random_idx, mc_samples=10):\n",
        "    # Randomly select an image from the test dataset\n",
        "    #random_idx = random.randint(0, len(test_dataset) - 1)\n",
        "    image, label = test_dataset[random_idx]\n",
        "\n",
        "    # Add Gaussian noise to the image\n",
        "    noisy_image = add_gaussian_noise(image).unsqueeze(0).to(device)  # Add batch dimension and send to device\n",
        "\n",
        "    # Display the noisy image\n",
        "    display_image(noisy_image.cpu().squeeze(), label)\n",
        "\n",
        "    # Predict and estimate uncertainty\n",
        "    predicted_label, probability, uncertainty = predict_and_estimate_uncertainty(model, noisy_image, mc_samples=mc_samples)\n",
        "\n",
        "    print(f\"Predicted Label: {predicted_label}\")\n",
        "    print(f\"Probability of Prediction: {probability:.4f}\")\n",
        "    print(f\"Uncertainty of Prediction: {uncertainty:.4f}\")\n",
        "\n"
      ],
      "metadata": {
        "id": "KdyHGfE51pPu"
      },
      "execution_count": 22,
      "outputs": []
    },
    {
      "cell_type": "code",
      "source": [
        "# Call the function\n",
        "display_and_predict_with_noise(model, test_dataset, random_idx, mc_samples=50)"
      ],
      "metadata": {
        "colab": {
          "base_uri": "https://localhost:8080/",
          "height": 520
        },
        "id": "ypFy5dRI1y0p",
        "outputId": "a5d632ff-db97-4d04-ea82-14cdea2c02c3"
      },
      "execution_count": 23,
      "outputs": [
        {
          "output_type": "display_data",
          "data": {
            "text/plain": [
              "<Figure size 640x480 with 1 Axes>"
            ],
            "image/png": "[encoded data removed]"
          },
          "metadata": {}
        },
        {
          "output_type": "stream",
          "name": "stdout",
          "text": [
            "torch.Size([50, 1, 10])\n",
            "Predicted Label: 2\n",
            "Probability of Prediction: 0.2929\n",
            "Uncertainty of Prediction: 0.0280\n"
          ]
        }
      ]
    },
    {
      "cell_type": "markdown",
      "source": [
        "### Additional Comments"
      ],
      "metadata": {
        "id": "z1sDNqNIm4yJ"
      }
    },
    {
      "cell_type": "markdown",
      "source": [
        "Let’s clarify and make sure the network architecture and Bayesian aspect are correctly implemented and understood. I provided a framework that defines Bayesian convolutional layers where each weight in these layers is represented by a distribution rather than a fixed value. This is a fundamental aspect of Bayesian neural networks, which use probability distributions over parameters rather than point estimates. However, I might have oversimplified some explanations or skipped over details. Here’s a more detailed explanation and verification:\n",
        "\n",
        "Is it Convolutional?\n",
        "A convolutional neural network (CNN) primarily consists of convolutional layers that perform convolution operations. The code snippets I provided earlier define a BayesianConv2d class meant to replace the standard convolutional layer (nn.Conv2d) in PyTorch. This custom layer maintains the convolutional aspect by performing convolutions within the forward method:\n",
        "\n",
        "\n",
        "\n",
        "\n",
        "```\n",
        "return nn.functional.conv2d(input, weight, bias, self.stride, self.padding)\n",
        "```\n",
        "\n",
        "\n",
        "Here, weight and bias are sampled from their respective distributions, making each forward pass different and stochastic, reflecting the Bayesian inference principle. The presence of convolution operations indeed confirms that it’s a convolutional neural network.\n",
        "\n",
        "**Is it Bayesian?**\n",
        "The Bayesian aspect comes from treating the parameters (weights and biases) of the neural network as random variables instead of fixed numbers. In a traditional neural network, weights are learned and fixed after training. In contrast, a Bayesian neural network maintains a distribution over these weights, which reflects uncertainty about the model parameters. This approach was implemented in the BayesianConv2d class, where weights and biases are defined by normal distributions with parameters mu (mean) and rho (a parameter from which standard deviation is derived):\n",
        "\n",
        "```\n",
        "weight = Normal(self.weight_mu, weight_sigma).rsample()\n",
        "bias = Normal(self.bias_mu, bias_sigma).rsample()\n",
        "```\n",
        "\n",
        "These distributions are sampled during each forward pass, making the output dependent on these stochastic parameters, which is a key feature of Bayesian inference.\n",
        "\n",
        "**Bayesian Inference Through ELBO**\n",
        "The true Bayesian nature is also evident from the use of the Evidence Lower Bound (ELBO), which was discussed in relation to the model’s training objective. The loss function combines the likelihood of the data (how well the model predicts the data) with the KL divergence between the approximate posterior (parameters of the distributions after training) and the prior distributions:\n",
        "\n",
        "```\n",
        "loss = criterion(output, labels) + kl / len(train_dataset)\n",
        "```\n",
        "\n",
        "This loss function includes the KL divergence term, which penalizes the model if the variational distribution strays too far from the prior, a key aspect of Bayesian variational inference.\n",
        "\n",
        "**Summary**\n",
        "The network is both convolutional, due to the use of convolution operations in the layers, and Bayesian, due to the probabilistic treatment of the parameters and the optimization of ELBO. This setup allows it to not only learn from data but also incorporate uncertainty in its predictions, which can be crucial for applications where decision-making under uncertainty is critical."
      ],
      "metadata": {
        "id": "khZgI5qkmh9e"
      }
    },
    {
      "cell_type": "markdown",
      "source": [
        "### Applications in Medical Imaging"
      ],
      "metadata": {
        "id": "Z7WhIgn6i4EY"
      }
    },
    {
      "cell_type": "markdown",
      "source": [
        "Diabetic retinopathy is the leading cause of blindness in the working-age population of the developed world. It is estimated to affect over 93 million people.\n",
        "\n",
        "![Image](https://storage.googleapis.com/kaggle-media/competitions/kaggle/4104/media/retina.jpg)\n",
        "\n",
        "\n",
        "https://www.kaggle.com/c/diabetic-retinopathy-detection/overview\n",
        "\n",
        "\n",
        "The US Center for Disease Control and Prevention estimates that 29.1 million people in the US have diabetes and the World Health Organization estimates that 347 million people have the disease worldwide. Diabetic Retinopathy (DR) is an eye disease associated with long-standing diabetes. Around 40% to 45% of Americans with diabetes have some stage of the disease. Progression to vision impairment can be slowed or averted if DR is detected in time, however this can be difficult as the disease often shows few symptoms until it is too late to provide effective treatment."
      ],
      "metadata": {
        "id": "CfLPuT40i66H"
      }
    }
  ],
  "metadata": {
    "accelerator": "GPU",
    "colab": {
      "gpuType": "T4",
      "provenance": []
    },
    "kernelspec": {
      "display_name": "Python 3",
      "name": "python3"
    },
    "language_info": {
      "name": "python"
    }
  },
  "nbformat": 4,
  "nbformat_minor": 0
}