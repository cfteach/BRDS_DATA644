{
  "nbformat": 4,
  "nbformat_minor": 0,
  "metadata": {
    "colab": {
      "provenance": []
    },
    "kernelspec": {
      "name": "python3",
      "display_name": "Python 3"
    },
    "language_info": {
      "name": "python"
    }
  },
  "cells": [
    {
      "cell_type": "markdown",
      "source": [
        "## Generalization to Bayesian Softmax Regression"
      ],
      "metadata": {
        "id": "LgxmlMR5nreK"
      }
    },
    {
      "cell_type": "code",
      "source": [
        "%pip install pymc pytensor"
      ],
      "metadata": {
        "colab": {
          "base_uri": "https://localhost:8080/"
        },
        "id": "-S2fsEnBl2IQ",
        "outputId": "193a519b-d80a-4f79-f9c5-7de2e75ab151"
      },
      "execution_count": 2,
      "outputs": [
        {
          "output_type": "stream",
          "name": "stdout",
          "text": [
            "Requirement already satisfied: pymc in /usr/local/lib/python3.10/dist-packages (5.7.2)\n",
            "Requirement already satisfied: pytensor in /usr/local/lib/python3.10/dist-packages (2.14.2)\n",
            "Requirement already satisfied: arviz>=0.13.0 in /usr/local/lib/python3.10/dist-packages (from pymc) (0.15.1)\n",
            "Requirement already satisfied: cachetools>=4.2.1 in /usr/local/lib/python3.10/dist-packages (from pymc) (5.3.2)\n",
            "Requirement already satisfied: cloudpickle in /usr/local/lib/python3.10/dist-packages (from pymc) (2.2.1)\n",
            "Requirement already satisfied: fastprogress>=0.2.0 in /usr/local/lib/python3.10/dist-packages (from pymc) (1.0.3)\n",
            "Requirement already satisfied: numpy>=1.15.0 in /usr/local/lib/python3.10/dist-packages (from pymc) (1.25.2)\n",
            "Requirement already satisfied: pandas>=0.24.0 in /usr/local/lib/python3.10/dist-packages (from pymc) (1.5.3)\n",
            "Requirement already satisfied: scipy>=1.4.1 in /usr/local/lib/python3.10/dist-packages (from pymc) (1.11.4)\n",
            "Requirement already satisfied: typing-extensions>=3.7.4 in /usr/local/lib/python3.10/dist-packages (from pymc) (4.9.0)\n",
            "Requirement already satisfied: setuptools>=48.0.0 in /usr/local/lib/python3.10/dist-packages (from pytensor) (67.7.2)\n",
            "Requirement already satisfied: filelock in /usr/local/lib/python3.10/dist-packages (from pytensor) (3.13.1)\n",
            "Requirement already satisfied: etuples in /usr/local/lib/python3.10/dist-packages (from pytensor) (0.3.9)\n",
            "Requirement already satisfied: logical-unification in /usr/local/lib/python3.10/dist-packages (from pytensor) (0.4.6)\n",
            "Requirement already satisfied: miniKanren in /usr/local/lib/python3.10/dist-packages (from pytensor) (1.0.3)\n",
            "Requirement already satisfied: cons in /usr/local/lib/python3.10/dist-packages (from pytensor) (0.4.6)\n",
            "Requirement already satisfied: matplotlib>=3.2 in /usr/local/lib/python3.10/dist-packages (from arviz>=0.13.0->pymc) (3.7.1)\n",
            "Requirement already satisfied: packaging in /usr/local/lib/python3.10/dist-packages (from arviz>=0.13.0->pymc) (23.2)\n",
            "Requirement already satisfied: xarray>=0.21.0 in /usr/local/lib/python3.10/dist-packages (from arviz>=0.13.0->pymc) (2023.7.0)\n",
            "Requirement already satisfied: h5netcdf>=1.0.2 in /usr/local/lib/python3.10/dist-packages (from arviz>=0.13.0->pymc) (1.3.0)\n",
            "Requirement already satisfied: xarray-einstats>=0.3 in /usr/local/lib/python3.10/dist-packages (from arviz>=0.13.0->pymc) (0.7.0)\n",
            "Requirement already satisfied: python-dateutil>=2.8.1 in /usr/local/lib/python3.10/dist-packages (from pandas>=0.24.0->pymc) (2.8.2)\n",
            "Requirement already satisfied: pytz>=2020.1 in /usr/local/lib/python3.10/dist-packages (from pandas>=0.24.0->pymc) (2023.4)\n",
            "Requirement already satisfied: toolz in /usr/local/lib/python3.10/dist-packages (from logical-unification->pytensor) (0.12.1)\n",
            "Requirement already satisfied: multipledispatch in /usr/local/lib/python3.10/dist-packages (from logical-unification->pytensor) (1.0.0)\n",
            "Requirement already satisfied: h5py in /usr/local/lib/python3.10/dist-packages (from h5netcdf>=1.0.2->arviz>=0.13.0->pymc) (3.9.0)\n",
            "Requirement already satisfied: contourpy>=1.0.1 in /usr/local/lib/python3.10/dist-packages (from matplotlib>=3.2->arviz>=0.13.0->pymc) (1.2.0)\n",
            "Requirement already satisfied: cycler>=0.10 in /usr/local/lib/python3.10/dist-packages (from matplotlib>=3.2->arviz>=0.13.0->pymc) (0.12.1)\n",
            "Requirement already satisfied: fonttools>=4.22.0 in /usr/local/lib/python3.10/dist-packages (from matplotlib>=3.2->arviz>=0.13.0->pymc) (4.49.0)\n",
            "Requirement already satisfied: kiwisolver>=1.0.1 in /usr/local/lib/python3.10/dist-packages (from matplotlib>=3.2->arviz>=0.13.0->pymc) (1.4.5)\n",
            "Requirement already satisfied: pillow>=6.2.0 in /usr/local/lib/python3.10/dist-packages (from matplotlib>=3.2->arviz>=0.13.0->pymc) (9.4.0)\n",
            "Requirement already satisfied: pyparsing>=2.3.1 in /usr/local/lib/python3.10/dist-packages (from matplotlib>=3.2->arviz>=0.13.0->pymc) (3.1.1)\n",
            "Requirement already satisfied: six>=1.5 in /usr/local/lib/python3.10/dist-packages (from python-dateutil>=2.8.1->pandas>=0.24.0->pymc) (1.16.0)\n"
          ]
        }
      ]
    },
    {
      "cell_type": "code",
      "execution_count": 3,
      "metadata": {
        "id": "LiFLxEMCjYUv"
      },
      "outputs": [],
      "source": [
        "import pymc as pm\n",
        "import numpy as np\n",
        "import pandas as pd\n",
        "import scipy.stats as stats\n",
        "from scipy.special import expit as logistic\n",
        "import matplotlib.pyplot as plt\n",
        "import arviz as az\n",
        "import requests\n",
        "import io\n",
        "\n"
      ]
    },
    {
      "cell_type": "code",
      "source": [
        "az.style.use('arviz-darkgrid')"
      ],
      "metadata": {
        "id": "ZORQDvAOl1cE"
      },
      "execution_count": 4,
      "outputs": []
    },
    {
      "cell_type": "code",
      "source": [
        "target_url = 'https://raw.githubusercontent.com/cfteach/brds/main/datasets/iris.csv'\n",
        "\n",
        "download = requests.get(target_url).content\n",
        "iris = pd.read_csv(io.StringIO(download.decode('utf-8')))\n",
        "\n",
        "iris.head()"
      ],
      "metadata": {
        "colab": {
          "base_uri": "https://localhost:8080/",
          "height": 204
        },
        "id": "ZYP912pbnmZo",
        "outputId": "6f74eaa3-2f32-465e-ac7a-d90b68496c32"
      },
      "execution_count": 5,
      "outputs": [
        {
          "output_type": "execute_result",
          "data": {
            "text/plain": [
              "   sepal_length  sepal_width  petal_length  petal_width species\n",
              "0           5.1          3.5           1.4          0.2  setosa\n",
              "1           4.9          3.0           1.4          0.2  setosa\n",
              "2           4.7          3.2           1.3          0.2  setosa\n",
              "3           4.6          3.1           1.5          0.2  setosa\n",
              "4           5.0          3.6           1.4          0.2  setosa"
            ],
            "text/html": [
              "\n",
              "  <div id=\"df-8c315ce3-f06e-49d2-8da4-0f9430f98559\" class=\"colab-df-container\">\n",
              "    <div>\n",
              "<style scoped>\n",
              "    .dataframe tbody tr th:only-of-type {\n",
              "        vertical-align: middle;\n",
              "    }\n",
              "\n",
              "    .dataframe tbody tr th {\n",
              "        vertical-align: top;\n",
              "    }\n",
              "\n",
              "    .dataframe thead th {\n",
              "        text-align: right;\n",
              "    }\n",
              "</style>\n",
              "<table border=\"1\" class=\"dataframe\">\n",
              "  <thead>\n",
              "    <tr style=\"text-align: right;\">\n",
              "      <th></th>\n",
              "      <th>sepal_length</th>\n",
              "      <th>sepal_width</th>\n",
              "      <th>petal_length</th>\n",
              "      <th>petal_width</th>\n",
              "      <th>species</th>\n",
              "    </tr>\n",
              "  </thead>\n",
              "  <tbody>\n",
              "    <tr>\n",
              "      <th>0</th>\n",
              "      <td>5.1</td>\n",
              "      <td>3.5</td>\n",
              "      <td>1.4</td>\n",
              "      <td>0.2</td>\n",
              "      <td>setosa</td>\n",
              "    </tr>\n",
              "    <tr>\n",
              "      <th>1</th>\n",
              "      <td>4.9</td>\n",
              "      <td>3.0</td>\n",
              "      <td>1.4</td>\n",
              "      <td>0.2</td>\n",
              "      <td>setosa</td>\n",
              "    </tr>\n",
              "    <tr>\n",
              "      <th>2</th>\n",
              "      <td>4.7</td>\n",
              "      <td>3.2</td>\n",
              "      <td>1.3</td>\n",
              "      <td>0.2</td>\n",
              "      <td>setosa</td>\n",
              "    </tr>\n",
              "    <tr>\n",
              "      <th>3</th>\n",
              "      <td>4.6</td>\n",
              "      <td>3.1</td>\n",
              "      <td>1.5</td>\n",
              "      <td>0.2</td>\n",
              "      <td>setosa</td>\n",
              "    </tr>\n",
              "    <tr>\n",
              "      <th>4</th>\n",
              "      <td>5.0</td>\n",
              "      <td>3.6</td>\n",
              "      <td>1.4</td>\n",
              "      <td>0.2</td>\n",
              "      <td>setosa</td>\n",
              "    </tr>\n",
              "  </tbody>\n",
              "</table>\n",
              "</div>\n",
              "    <div class=\"colab-df-buttons\">\n",
              "\n",
              "  <div class=\"colab-df-container\">\n",
              "    <button class=\"colab-df-convert\" onclick=\"convertToInteractive('df-8c315ce3-f06e-49d2-8da4-0f9430f98559')\"\n",
              "            title=\"Convert this dataframe to an interactive table.\"\n",
              "            style=\"display:none;\">\n",
              "\n",
              "  <svg xmlns=\"http://www.w3.org/2000/svg\" height=\"24px\" viewBox=\"0 -960 960 960\">\n",
              "    <path d=\"M120-120v-720h720v720H120Zm60-500h600v-160H180v160Zm220 220h160v-160H400v160Zm0 220h160v-160H400v160ZM180-400h160v-160H180v160Zm440 0h160v-160H620v160ZM180-180h160v-160H180v160Zm440 0h160v-160H620v160Z\"/>\n",
              "  </svg>\n",
              "    </button>\n",
              "\n",
              "  <style>\n",
              "    .colab-df-container {\n",
              "      display:flex;\n",
              "      gap: 12px;\n",
              "    }\n",
              "\n",
              "    .colab-df-convert {\n",
              "      background-color: #E8F0FE;\n",
              "      border: none;\n",
              "      border-radius: 50%;\n",
              "      cursor: pointer;\n",
              "      display: none;\n",
              "      fill: #1967D2;\n",
              "      height: 32px;\n",
              "      padding: 0 0 0 0;\n",
              "      width: 32px;\n",
              "    }\n",
              "\n",
              "    .colab-df-convert:hover {\n",
              "      background-color: #E2EBFA;\n",
              "      box-shadow: 0px 1px 2px rgba(60, 64, 67, 0.3), 0px 1px 3px 1px rgba(60, 64, 67, 0.15);\n",
              "      fill: #174EA6;\n",
              "    }\n",
              "\n",
              "    .colab-df-buttons div {\n",
              "      margin-bottom: 4px;\n",
              "    }\n",
              "\n",
              "    [theme=dark] .colab-df-convert {\n",
              "      background-color: #3B4455;\n",
              "      fill: #D2E3FC;\n",
              "    }\n",
              "\n",
              "    [theme=dark] .colab-df-convert:hover {\n",
              "      background-color: #434B5C;\n",
              "      box-shadow: 0px 1px 3px 1px rgba(0, 0, 0, 0.15);\n",
              "      filter: drop-shadow(0px 1px 2px rgba(0, 0, 0, 0.3));\n",
              "      fill: #FFFFFF;\n",
              "    }\n",
              "  </style>\n",
              "\n",
              "    <script>\n",
              "      const buttonEl =\n",
              "        document.querySelector('#df-8c315ce3-f06e-49d2-8da4-0f9430f98559 button.colab-df-convert');\n",
              "      buttonEl.style.display =\n",
              "        google.colab.kernel.accessAllowed ? 'block' : 'none';\n",
              "\n",
              "      async function convertToInteractive(key) {\n",
              "        const element = document.querySelector('#df-8c315ce3-f06e-49d2-8da4-0f9430f98559');\n",
              "        const dataTable =\n",
              "          await google.colab.kernel.invokeFunction('convertToInteractive',\n",
              "                                                    [key], {});\n",
              "        if (!dataTable) return;\n",
              "\n",
              "        const docLinkHtml = 'Like what you see? Visit the ' +\n",
              "          '<a target=\"_blank\" href=https://colab.research.google.com/notebooks/data_table.ipynb>data table notebook</a>'\n",
              "          + ' to learn more about interactive tables.';\n",
              "        element.innerHTML = '';\n",
              "        dataTable['output_type'] = 'display_data';\n",
              "        await google.colab.output.renderOutput(dataTable, element);\n",
              "        const docLink = document.createElement('div');\n",
              "        docLink.innerHTML = docLinkHtml;\n",
              "        element.appendChild(docLink);\n",
              "      }\n",
              "    </script>\n",
              "  </div>\n",
              "\n",
              "\n",
              "<div id=\"df-4ce00f70-d6e8-43e4-9f8b-1f3f448acdfd\">\n",
              "  <button class=\"colab-df-quickchart\" onclick=\"quickchart('df-4ce00f70-d6e8-43e4-9f8b-1f3f448acdfd')\"\n",
              "            title=\"Suggest charts\"\n",
              "            style=\"display:none;\">\n",
              "\n",
              "<svg xmlns=\"http://www.w3.org/2000/svg\" height=\"24px\"viewBox=\"0 0 24 24\"\n",
              "     width=\"24px\">\n",
              "    <g>\n",
              "        <path d=\"M19 3H5c-1.1 0-2 .9-2 2v14c0 1.1.9 2 2 2h14c1.1 0 2-.9 2-2V5c0-1.1-.9-2-2-2zM9 17H7v-7h2v7zm4 0h-2V7h2v10zm4 0h-2v-4h2v4z\"/>\n",
              "    </g>\n",
              "</svg>\n",
              "  </button>\n",
              "\n",
              "<style>\n",
              "  .colab-df-quickchart {\n",
              "      --bg-color: #E8F0FE;\n",
              "      --fill-color: #1967D2;\n",
              "      --hover-bg-color: #E2EBFA;\n",
              "      --hover-fill-color: #174EA6;\n",
              "      --disabled-fill-color: #AAA;\n",
              "      --disabled-bg-color: #DDD;\n",
              "  }\n",
              "\n",
              "  [theme=dark] .colab-df-quickchart {\n",
              "      --bg-color: #3B4455;\n",
              "      --fill-color: #D2E3FC;\n",
              "      --hover-bg-color: #434B5C;\n",
              "      --hover-fill-color: #FFFFFF;\n",
              "      --disabled-bg-color: #3B4455;\n",
              "      --disabled-fill-color: #666;\n",
              "  }\n",
              "\n",
              "  .colab-df-quickchart {\n",
              "    background-color: var(--bg-color);\n",
              "    border: none;\n",
              "    border-radius: 50%;\n",
              "    cursor: pointer;\n",
              "    display: none;\n",
              "    fill: var(--fill-color);\n",
              "    height: 32px;\n",
              "    padding: 0;\n",
              "    width: 32px;\n",
              "  }\n",
              "\n",
              "  .colab-df-quickchart:hover {\n",
              "    background-color: var(--hover-bg-color);\n",
              "    box-shadow: 0 1px 2px rgba(60, 64, 67, 0.3), 0 1px 3px 1px rgba(60, 64, 67, 0.15);\n",
              "    fill: var(--button-hover-fill-color);\n",
              "  }\n",
              "\n",
              "  .colab-df-quickchart-complete:disabled,\n",
              "  .colab-df-quickchart-complete:disabled:hover {\n",
              "    background-color: var(--disabled-bg-color);\n",
              "    fill: var(--disabled-fill-color);\n",
              "    box-shadow: none;\n",
              "  }\n",
              "\n",
              "  .colab-df-spinner {\n",
              "    border: 2px solid var(--fill-color);\n",
              "    border-color: transparent;\n",
              "    border-bottom-color: var(--fill-color);\n",
              "    animation:\n",
              "      spin 1s steps(1) infinite;\n",
              "  }\n",
              "\n",
              "  @keyframes spin {\n",
              "    0% {\n",
              "      border-color: transparent;\n",
              "      border-bottom-color: var(--fill-color);\n",
              "      border-left-color: var(--fill-color);\n",
              "    }\n",
              "    20% {\n",
              "      border-color: transparent;\n",
              "      border-left-color: var(--fill-color);\n",
              "      border-top-color: var(--fill-color);\n",
              "    }\n",
              "    30% {\n",
              "      border-color: transparent;\n",
              "      border-left-color: var(--fill-color);\n",
              "      border-top-color: var(--fill-color);\n",
              "      border-right-color: var(--fill-color);\n",
              "    }\n",
              "    40% {\n",
              "      border-color: transparent;\n",
              "      border-right-color: var(--fill-color);\n",
              "      border-top-color: var(--fill-color);\n",
              "    }\n",
              "    60% {\n",
              "      border-color: transparent;\n",
              "      border-right-color: var(--fill-color);\n",
              "    }\n",
              "    80% {\n",
              "      border-color: transparent;\n",
              "      border-right-color: var(--fill-color);\n",
              "      border-bottom-color: var(--fill-color);\n",
              "    }\n",
              "    90% {\n",
              "      border-color: transparent;\n",
              "      border-bottom-color: var(--fill-color);\n",
              "    }\n",
              "  }\n",
              "</style>\n",
              "\n",
              "  <script>\n",
              "    async function quickchart(key) {\n",
              "      const quickchartButtonEl =\n",
              "        document.querySelector('#' + key + ' button');\n",
              "      quickchartButtonEl.disabled = true;  // To prevent multiple clicks.\n",
              "      quickchartButtonEl.classList.add('colab-df-spinner');\n",
              "      try {\n",
              "        const charts = await google.colab.kernel.invokeFunction(\n",
              "            'suggestCharts', [key], {});\n",
              "      } catch (error) {\n",
              "        console.error('Error during call to suggestCharts:', error);\n",
              "      }\n",
              "      quickchartButtonEl.classList.remove('colab-df-spinner');\n",
              "      quickchartButtonEl.classList.add('colab-df-quickchart-complete');\n",
              "    }\n",
              "    (() => {\n",
              "      let quickchartButtonEl =\n",
              "        document.querySelector('#df-4ce00f70-d6e8-43e4-9f8b-1f3f448acdfd button');\n",
              "      quickchartButtonEl.style.display =\n",
              "        google.colab.kernel.accessAllowed ? 'block' : 'none';\n",
              "    })();\n",
              "  </script>\n",
              "</div>\n",
              "    </div>\n",
              "  </div>\n"
            ],
            "application/vnd.google.colaboratory.intrinsic+json": {
              "type": "dataframe",
              "variable_name": "iris",
              "summary": "{\n  \"name\": \"iris\",\n  \"rows\": 150,\n  \"fields\": [\n    {\n      \"column\": \"sepal_length\",\n      \"properties\": {\n        \"dtype\": \"number\",\n        \"std\": 0.828066127977863,\n        \"min\": 4.3,\n        \"max\": 7.9,\n        \"num_unique_values\": 35,\n        \"samples\": [\n          6.2,\n          4.5,\n          5.6\n        ],\n        \"semantic_type\": \"\",\n        \"description\": \"\"\n      }\n    },\n    {\n      \"column\": \"sepal_width\",\n      \"properties\": {\n        \"dtype\": \"number\",\n        \"std\": 0.4358662849366982,\n        \"min\": 2.0,\n        \"max\": 4.4,\n        \"num_unique_values\": 23,\n        \"samples\": [\n          2.3,\n          4.0,\n          3.5\n        ],\n        \"semantic_type\": \"\",\n        \"description\": \"\"\n      }\n    },\n    {\n      \"column\": \"petal_length\",\n      \"properties\": {\n        \"dtype\": \"number\",\n        \"std\": 1.7652982332594662,\n        \"min\": 1.0,\n        \"max\": 6.9,\n        \"num_unique_values\": 43,\n        \"samples\": [\n          6.7,\n          3.8,\n          3.7\n        ],\n        \"semantic_type\": \"\",\n        \"description\": \"\"\n      }\n    },\n    {\n      \"column\": \"petal_width\",\n      \"properties\": {\n        \"dtype\": \"number\",\n        \"std\": 0.7622376689603465,\n        \"min\": 0.1,\n        \"max\": 2.5,\n        \"num_unique_values\": 22,\n        \"samples\": [\n          0.2,\n          1.2,\n          1.3\n        ],\n        \"semantic_type\": \"\",\n        \"description\": \"\"\n      }\n    },\n    {\n      \"column\": \"species\",\n      \"properties\": {\n        \"dtype\": \"category\",\n        \"num_unique_values\": 3,\n        \"samples\": [\n          \"setosa\",\n          \"versicolor\",\n          \"virginica\"\n        ],\n        \"semantic_type\": \"\",\n        \"description\": \"\"\n      }\n    }\n  ]\n}"
            }
          },
          "metadata": {},
          "execution_count": 5
        }
      ]
    },
    {
      "source": [
        "# @title species vs petal_width\n",
        "\n",
        "from matplotlib import pyplot as plt\n",
        "import seaborn as sns\n",
        "figsize = (12, 1.2 * len(iris['species'].unique()))\n",
        "plt.figure(figsize=figsize)\n",
        "sns.violinplot(iris, x='petal_width', y='species', inner='stick', palette='Dark2')\n",
        "sns.despine(top=True, right=True, bottom=True, left=True)"
      ],
      "cell_type": "code",
      "execution_count": 6,
      "outputs": [
        {
          "output_type": "stream",
          "name": "stderr",
          "text": [
            "<ipython-input-6-7a5e472054ba>:7: FutureWarning: \n",
            "\n",
            "Passing `palette` without assigning `hue` is deprecated and will be removed in v0.14.0. Assign the `y` variable to `hue` and set `legend=False` for the same effect.\n",
            "\n",
            "  sns.violinplot(iris, x='petal_width', y='species', inner='stick', palette='Dark2')\n"
          ]
        },
        {
          "output_type": "display_data",
          "data": {
            "text/plain": [
              "<Figure size 1200x360 with 1 Axes>"
            ],
            "image/png": "[encoded data removed]"
          },
          "metadata": {}
        }
      ],
      "metadata": {
        "cellView": "form",
        "colab": {
          "base_uri": "https://localhost:8080/",
          "height": 493
        },
        "id": "ZgZrRSP0n1VZ",
        "outputId": "76a37715-437e-45d2-a20e-4eaede921991"
      }
    },
    {
      "cell_type": "markdown",
      "source": [
        "### Recipe 1: Dealing with correlated data"
      ],
      "metadata": {
        "id": "WQ4GbAukoF-x"
      }
    },
    {
      "cell_type": "code",
      "source": [
        "corr = iris[iris['species'] != 'virginica'].corr()\n",
        "mask = np.tri(*corr.shape).T\n",
        "g = sns.heatmap(corr.abs(), mask=mask, annot=True, cmap='viridis')\n",
        "g.set_xticklabels(g.get_yticklabels(), rotation = 90, fontsize = 14)\n",
        "g.set_yticklabels(g.get_yticklabels(), rotation = 0, fontsize = 14)"
      ],
      "metadata": {
        "colab": {
          "base_uri": "https://localhost:8080/",
          "height": 630
        },
        "id": "KhBxs9i4noUD",
        "outputId": "f01ba9a4-366e-40b8-c0aa-6dda8f37f694"
      },
      "execution_count": 7,
      "outputs": [
        {
          "output_type": "stream",
          "name": "stderr",
          "text": [
            "<ipython-input-7-c7a84d82f61e>:1: FutureWarning: The default value of numeric_only in DataFrame.corr is deprecated. In a future version, it will default to False. Select only valid columns or specify the value of numeric_only to silence this warning.\n",
            "  corr = iris[iris['species'] != 'virginica'].corr()\n"
          ]
        },
        {
          "output_type": "execute_result",
          "data": {
            "text/plain": [
              "[Text(0, 0.5, 'sepal_length'),\n",
              " Text(0, 1.5, 'sepal_width'),\n",
              " Text(0, 2.5, 'petal_length'),\n",
              " Text(0, 3.5, 'petal_width')]"
            ]
          },
          "metadata": {},
          "execution_count": 7
        },
        {
          "output_type": "display_data",
          "data": {
            "text/plain": [
              "<Figure size 720x480 with 2 Axes>"
            ],
            "image/png": "[encoded data removed]"
          },
          "metadata": {}
        }
      ]
    },
    {
      "cell_type": "markdown",
      "source": [
        "**Notes**\n",
        "\n",
        "\n",
        "(i) Correlated data has typically less power to restrict the model; correlated variables translate into wider combinations of coefficients that are able to explain the data.\n",
        "\n",
        "(ii) One solution when dealing with highly correlated variables is to remove one (or more than one) correlated variable.\n",
        "\n",
        "(iii) Another option is scaling all non-binary variables to have a mean of 0, and then using (see logistic regression model parameters):\n",
        "\n",
        "$\\beta \\sim StudentT(0,\\nu,sd)$\n",
        "$sd$ should be chosen to weekly inform us about the expected value for the scale. The normality parameter $\\nu$ is typically chosen to be in the range (3,7). This prior is saying that in general we expect the coefficienct to be small, but we use wide tails because occasionally we will find some larger coefficients."
      ],
      "metadata": {
        "id": "V9IJS0HmyQsH"
      }
    },
    {
      "cell_type": "markdown",
      "source": [
        "### Recipe 2: Dealing with correlated data"
      ],
      "metadata": {
        "id": "XCtX3GIVoLim"
      }
    },
    {
      "cell_type": "code",
      "source": [
        "df = iris.query(\"species == ('setosa', 'versicolor')\")\n",
        "df = df[45:]   # let's select two unbalanced classes\n",
        "y_unb = pd.Categorical(df['species']).codes\n",
        "x_n = ['sepal_length', 'sepal_width']\n",
        "x_unb = df[x_n].values\n",
        "\n",
        "print(y_unb) #this is why is unbalanced"
      ],
      "metadata": {
        "colab": {
          "base_uri": "https://localhost:8080/"
        },
        "id": "Pd4c0yqCoNuW",
        "outputId": "84feb60c-d7ca-4017-b51d-13c652df07e1"
      },
      "execution_count": 8,
      "outputs": [
        {
          "output_type": "stream",
          "name": "stdout",
          "text": [
            "[0 0 0 0 0 1 1 1 1 1 1 1 1 1 1 1 1 1 1 1 1 1 1 1 1 1 1 1 1 1 1 1 1 1 1 1 1\n",
            " 1 1 1 1 1 1 1 1 1 1 1 1 1 1 1 1 1 1]\n"
          ]
        }
      ]
    },
    {
      "cell_type": "markdown",
      "source": [
        "Doing the usual thing: build the logistic regression…\n",
        "\n"
      ],
      "metadata": {
        "id": "AmoMYqZt1nA4"
      }
    },
    {
      "cell_type": "code",
      "source": [
        "with pm.Model() as model_unb:\n",
        "    α = pm.Normal('α', mu=0, sigma=10)\n",
        "    β = pm.Normal('β', mu=0, sigma=2, shape=len(x_n))\n",
        "\n",
        "    μ = α + pm.math.dot(x_unb, β)\n",
        "    θ = 1 / (1 + pm.math.exp(-μ))\n",
        "    bd = pm.Deterministic('bd', -α/β[1] - β[0]/β[1] * x_unb[:,0])\n",
        "\n",
        "    yl = pm.Bernoulli('yl', p=θ, observed=y_unb)\n",
        "\n",
        "    trace_unb = pm.sample(1000, target_accept=0.95)"
      ],
      "metadata": {
        "colab": {
          "base_uri": "https://localhost:8080/",
          "height": 57
        },
        "id": "uq7t5Fxuz7hT",
        "outputId": "6a83f7c1-1f2d-4ef3-eec6-226d4c554c49"
      },
      "execution_count": 9,
      "outputs": [
        {
          "output_type": "display_data",
          "data": {
            "text/plain": [
              "<IPython.core.display.HTML object>"
            ],
            "text/html": [
              "\n",
              "<style>\n",
              "    /* Turns off some styling */\n",
              "    progress {\n",
              "        /* gets rid of default border in Firefox and Opera. */\n",
              "        border: none;\n",
              "        /* Needs to be in here for Safari polyfill so background images work as expected. */\n",
              "        background-size: auto;\n",
              "    }\n",
              "    progress:not([value]), progress:not([value])::-webkit-progress-bar {\n",
              "        background: repeating-linear-gradient(45deg, #7e7e7e, #7e7e7e 10px, #5c5c5c 10px, #5c5c5c 20px);\n",
              "    }\n",
              "    .progress-bar-interrupted, .progress-bar-interrupted::-webkit-progress-bar {\n",
              "        background: #F44336;\n",
              "    }\n",
              "</style>\n"
            ]
          },
          "metadata": {}
        },
        {
          "output_type": "display_data",
          "data": {
            "text/plain": [
              "<IPython.core.display.HTML object>"
            ],
            "text/html": [
              "\n",
              "    <div>\n",
              "      <progress value='2000' class='' max='2000' style='width:300px; height:20px; vertical-align: middle;'></progress>\n",
              "      100.00% [2000/2000 00:32&lt;00:00 Sampling chain 0, 0 divergences]\n",
              "    </div>\n",
              "    "
            ]
          },
          "metadata": {}
        },
        {
          "output_type": "display_data",
          "data": {
            "text/plain": [
              "<IPython.core.display.HTML object>"
            ],
            "text/html": [
              "\n",
              "<style>\n",
              "    /* Turns off some styling */\n",
              "    progress {\n",
              "        /* gets rid of default border in Firefox and Opera. */\n",
              "        border: none;\n",
              "        /* Needs to be in here for Safari polyfill so background images work as expected. */\n",
              "        background-size: auto;\n",
              "    }\n",
              "    progress:not([value]), progress:not([value])::-webkit-progress-bar {\n",
              "        background: repeating-linear-gradient(45deg, #7e7e7e, #7e7e7e 10px, #5c5c5c 10px, #5c5c5c 20px);\n",
              "    }\n",
              "    .progress-bar-interrupted, .progress-bar-interrupted::-webkit-progress-bar {\n",
              "        background: #F44336;\n",
              "    }\n",
              "</style>\n"
            ]
          },
          "metadata": {}
        },
        {
          "output_type": "display_data",
          "data": {
            "text/plain": [
              "<IPython.core.display.HTML object>"
            ],
            "text/html": [
              "\n",
              "    <div>\n",
              "      <progress value='2000' class='' max='2000' style='width:300px; height:20px; vertical-align: middle;'></progress>\n",
              "      100.00% [2000/2000 00:15&lt;00:00 Sampling chain 1, 0 divergences]\n",
              "    </div>\n",
              "    "
            ]
          },
          "metadata": {}
        }
      ]
    },
    {
      "cell_type": "code",
      "source": [
        "idx = np.argsort(x_unb[:,0])\n",
        "\n",
        "bd = trace_unb.posterior['bd'].mean(axis=0).mean(axis=0)[idx]\n",
        "\n",
        "plt.scatter(x_unb[:,0], x_unb[:,1], c= [f'C{x}' for x in y_unb])\n",
        "plt.plot(x_unb[:,0][idx], bd, color='k')\n",
        "\n",
        "az.plot_hdi(x_unb[:,0], trace_unb.posterior['bd'], color='k')\n",
        "\n",
        "plt.xlabel(x_n[0])\n",
        "plt.ylabel(x_n[1])"
      ],
      "metadata": {
        "colab": {
          "base_uri": "https://localhost:8080/",
          "height": 525
        },
        "id": "fwzdXlN013X_",
        "outputId": "82656bec-d19d-4f73-d229-c8bef9b5c03a"
      },
      "execution_count": 10,
      "outputs": [
        {
          "output_type": "execute_result",
          "data": {
            "text/plain": [
              "Text(0, 0.5, 'sepal_width')"
            ]
          },
          "metadata": {},
          "execution_count": 10
        },
        {
          "output_type": "display_data",
          "data": {
            "text/plain": [
              "<Figure size 720x480 with 1 Axes>"
            ],
            "image/png": "[encoded data removed]"
          },
          "metadata": {}
        }
      ]
    },
    {
      "cell_type": "markdown",
      "source": [
        "**Notes**\n",
        "\n",
        "(i) In case of an unbalanced dataset, logistic regression can run into some trouble: the boundary cannot be determined as accurately as when the dataset is more balanced.\n",
        "\n",
        "(ii) The decision boundary is \"shifted\" towards the less abundant class, and the uncertainty band is larger.\n",
        "\n",
        "(iii) It is always good to have a balanced dataset. If you do have unbalanced data though, you should be careful when you interpret results: check the uncertainty of the model, and run some posterior predictive checks for consistency. Another option is to input more prior information if available and/or run an alternative model."
      ],
      "metadata": {
        "id": "ULYoMz3y2pZX"
      }
    },
    {
      "cell_type": "markdown",
      "source": [
        "### Generalization to multiple classes: Softmax Regression"
      ],
      "metadata": {
        "id": "QfyT7PHO3Tfo"
      }
    },
    {
      "cell_type": "markdown",
      "source": [
        "**Notes**\n",
        "\n",
        "In order to generalize to mutliple classes, two modifications are needed:\n",
        "\n",
        "(i) We use a softmax (see also Boltzmann distribution in physics), which is defined as:\n",
        "\n",
        "\n",
        "$softmax_{i}(\\mu)= \\frac{exp(\\mu_{i})}{\\sum_{k}exp(\\mu_{k})}$\n",
        "\n",
        "\n",
        "(ii) We then replace the Bernoulli distribution with the categorical distribution. As the Bernoulli (single coin flip) is a special case of a Binomial (n coin flips), the categorical (single roll of a die) is a special case of the multinomial distribution (n rolls of a die)."
      ],
      "metadata": {
        "id": "pJ6Lt8Zl428Z"
      }
    },
    {
      "cell_type": "code",
      "source": [
        "iris.columns[:-1]"
      ],
      "metadata": {
        "colab": {
          "base_uri": "https://localhost:8080/"
        },
        "id": "e1FDmON_AzTR",
        "outputId": "2ce6dc28-8878-40bb-abbe-6a5476fa79b5"
      },
      "execution_count": 11,
      "outputs": [
        {
          "output_type": "execute_result",
          "data": {
            "text/plain": [
              "Index(['sepal_length', 'sepal_width', 'petal_length', 'petal_width'], dtype='object')"
            ]
          },
          "metadata": {},
          "execution_count": 11
        }
      ]
    },
    {
      "cell_type": "code",
      "source": [
        "iris = sns.load_dataset('iris')\n",
        "y_s = pd.Categorical(iris['species']).codes\n",
        "x_n = iris.columns[:-1]\n",
        "x_s = iris[x_n].values\n",
        "\n",
        "x_s = (x_s - x_s.mean(axis=0)) / x_s.std(axis=0)\n",
        "\n",
        "print(np.shape(x_s))\n",
        "print(np.shape(y_s))\n",
        "#print(x_n)\n",
        "#print(iris)"
      ],
      "metadata": {
        "colab": {
          "base_uri": "https://localhost:8080/"
        },
        "id": "s8XMp71t2V8q",
        "outputId": "c39ec09b-a009-4059-e23e-896206424b34"
      },
      "execution_count": 12,
      "outputs": [
        {
          "output_type": "stream",
          "name": "stdout",
          "text": [
            "(150, 4)\n",
            "(150,)\n"
          ]
        }
      ]
    },
    {
      "cell_type": "code",
      "source": [
        "with pm.Model() as model_s:\n",
        "    α = pm.Normal('α', mu=0, sigma=5, shape=3)\n",
        "    β = pm.Normal('β', mu=0, sigma=5, shape=(4,3))\n",
        "    μ = pm.Deterministic('μ', α + pm.math.dot(x_s, β))\n",
        "    θ = pm.math.softmax(μ, axis = 1)\n",
        "    yl = pm.Categorical('yl', p=θ, observed=y_s)\n",
        "    idata_s = pm.sample(2000, target_accept=.95)\n"
      ],
      "metadata": {
        "colab": {
          "base_uri": "https://localhost:8080/",
          "height": 57
        },
        "id": "mBKJNBO36zsp",
        "outputId": "710d92ae-302e-4b48-8fd5-98dcac0768f6"
      },
      "execution_count": 13,
      "outputs": [
        {
          "output_type": "display_data",
          "data": {
            "text/plain": [
              "<IPython.core.display.HTML object>"
            ],
            "text/html": [
              "\n",
              "<style>\n",
              "    /* Turns off some styling */\n",
              "    progress {\n",
              "        /* gets rid of default border in Firefox and Opera. */\n",
              "        border: none;\n",
              "        /* Needs to be in here for Safari polyfill so background images work as expected. */\n",
              "        background-size: auto;\n",
              "    }\n",
              "    progress:not([value]), progress:not([value])::-webkit-progress-bar {\n",
              "        background: repeating-linear-gradient(45deg, #7e7e7e, #7e7e7e 10px, #5c5c5c 10px, #5c5c5c 20px);\n",
              "    }\n",
              "    .progress-bar-interrupted, .progress-bar-interrupted::-webkit-progress-bar {\n",
              "        background: #F44336;\n",
              "    }\n",
              "</style>\n"
            ]
          },
          "metadata": {}
        },
        {
          "output_type": "display_data",
          "data": {
            "text/plain": [
              "<IPython.core.display.HTML object>"
            ],
            "text/html": [
              "\n",
              "    <div>\n",
              "      <progress value='3000' class='' max='3000' style='width:300px; height:20px; vertical-align: middle;'></progress>\n",
              "      100.00% [3000/3000 01:13&lt;00:00 Sampling chain 0, 0 divergences]\n",
              "    </div>\n",
              "    "
            ]
          },
          "metadata": {}
        },
        {
          "output_type": "display_data",
          "data": {
            "text/plain": [
              "<IPython.core.display.HTML object>"
            ],
            "text/html": [
              "\n",
              "<style>\n",
              "    /* Turns off some styling */\n",
              "    progress {\n",
              "        /* gets rid of default border in Firefox and Opera. */\n",
              "        border: none;\n",
              "        /* Needs to be in here for Safari polyfill so background images work as expected. */\n",
              "        background-size: auto;\n",
              "    }\n",
              "    progress:not([value]), progress:not([value])::-webkit-progress-bar {\n",
              "        background: repeating-linear-gradient(45deg, #7e7e7e, #7e7e7e 10px, #5c5c5c 10px, #5c5c5c 20px);\n",
              "    }\n",
              "    .progress-bar-interrupted, .progress-bar-interrupted::-webkit-progress-bar {\n",
              "        background: #F44336;\n",
              "    }\n",
              "</style>\n"
            ]
          },
          "metadata": {}
        },
        {
          "output_type": "display_data",
          "data": {
            "text/plain": [
              "<IPython.core.display.HTML object>"
            ],
            "text/html": [
              "\n",
              "    <div>\n",
              "      <progress value='3000' class='' max='3000' style='width:300px; height:20px; vertical-align: middle;'></progress>\n",
              "      100.00% [3000/3000 01:16&lt;00:00 Sampling chain 1, 0 divergences]\n",
              "    </div>\n",
              "    "
            ]
          },
          "metadata": {}
        }
      ]
    },
    {
      "cell_type": "markdown",
      "source": [
        "Note that you need to call .eval() on Theano tensors to convert them to NumPy arrays before passing them to the softmax function."
      ],
      "metadata": {
        "id": "DUQGlPMa8R-w"
      }
    },
    {
      "cell_type": "code",
      "source": [
        "data_pred = idata_s.posterior['μ'].mean(axis=0).mean(axis=0).values\n",
        "print(np.shape(data_pred))\n",
        "print(np.shape(y_s))"
      ],
      "metadata": {
        "colab": {
          "base_uri": "https://localhost:8080/"
        },
        "id": "pFDT4g9n8RA8",
        "outputId": "887d5b05-1c2a-4350-8715-53dcb6a637bc"
      },
      "execution_count": 14,
      "outputs": [
        {
          "output_type": "stream",
          "name": "stdout",
          "text": [
            "(150, 3)\n",
            "(150,)\n"
          ]
        }
      ]
    },
    {
      "cell_type": "code",
      "source": [
        "y_pred = [np.exp(point)/np.sum(np.exp(point), axis=0)\n",
        "          for point in data_pred]\n",
        "\n",
        "res_t = np.sum(y_s == np.argmax(y_pred, axis=1)) / len(y_s)\n",
        "print(\"accuracy is: {:1.3f}\".format(res_t))\n"
      ],
      "metadata": {
        "colab": {
          "base_uri": "https://localhost:8080/"
        },
        "id": "Q0BNKcLjEAEW",
        "outputId": "2382e553-0be8-42c0-e701-dea2f76c3f58"
      },
      "execution_count": 15,
      "outputs": [
        {
          "output_type": "stream",
          "name": "stdout",
          "text": [
            "accuracy is: 0.980\n"
          ]
        }
      ]
    },
    {
      "cell_type": "code",
      "source": [
        "az.summary(idata_s).head(15)"
      ],
      "metadata": {
        "colab": {
          "base_uri": "https://localhost:8080/",
          "height": 568
        },
        "id": "N02HNWq99bAX",
        "outputId": "77b84857-4bbd-474e-89af-90d080ffbbfe"
      },
      "execution_count": 16,
      "outputs": [
        {
          "output_type": "stream",
          "name": "stderr",
          "text": [
            "/usr/local/lib/python3.10/dist-packages/arviz/utils.py:184: NumbaDeprecationWarning: The 'nopython' keyword argument was not supplied to the 'numba.jit' decorator. The implicit default value for this argument is currently False, but it will be changed to True in Numba 0.59.0. See https://numba.readthedocs.io/en/stable/reference/deprecation.html#deprecation-of-object-mode-fall-back-behaviour-when-using-jit for details.\n",
            "  numba_fn = numba.jit(**self.kwargs)(self.function)\n"
          ]
        },
        {
          "output_type": "execute_result",
          "data": {
            "text/plain": [
              "          mean     sd  hdi_3%  hdi_97%  mcse_mean  mcse_sd  ess_bulk  \\\n",
              "α[0]    -1.128  3.766  -7.880    6.266      0.066    0.054    3236.0   \n",
              "α[1]     5.855  3.194   0.224   12.107      0.060    0.043    2830.0   \n",
              "α[2]    -4.826  3.432 -11.594    1.316      0.061    0.045    3133.0   \n",
              "β[0, 0] -2.461  4.161 -10.526    5.205      0.067    0.059    3794.0   \n",
              "β[0, 1]  1.970  3.316  -4.186    8.424      0.068    0.050    2369.0   \n",
              "β[0, 2]  0.606  3.332  -5.372    7.274      0.069    0.052    2312.0   \n",
              "β[1, 0]  3.258  3.395  -2.710    9.906      0.066    0.048    2678.0   \n",
              "β[1, 1] -0.864  3.025  -6.356    5.093      0.064    0.046    2235.0   \n",
              "β[1, 2] -2.268  3.050  -8.011    3.336      0.065    0.046    2227.0   \n",
              "β[2, 0] -6.319  4.300 -14.562    1.564      0.071    0.054    3708.0   \n",
              "β[2, 1] -1.555  3.654  -8.427    5.317      0.062    0.054    3526.0   \n",
              "β[2, 2]  7.660  3.772   0.598   14.655      0.061    0.044    3796.0   \n",
              "β[3, 0] -5.829  4.248 -14.152    2.004      0.074    0.055    3292.0   \n",
              "β[3, 1] -0.888  3.486  -7.276    5.645      0.068    0.049    2625.0   \n",
              "β[3, 2]  6.956  3.616   0.164   13.683      0.070    0.051    2697.0   \n",
              "\n",
              "         ess_tail  r_hat  \n",
              "α[0]       2625.0    1.0  \n",
              "α[1]       2885.0    1.0  \n",
              "α[2]       2971.0    1.0  \n",
              "β[0, 0]    3053.0    1.0  \n",
              "β[0, 1]    2622.0    1.0  \n",
              "β[0, 2]    2244.0    1.0  \n",
              "β[1, 0]    2749.0    1.0  \n",
              "β[1, 1]    2242.0    1.0  \n",
              "β[1, 2]    2475.0    1.0  \n",
              "β[2, 0]    2755.0    1.0  \n",
              "β[2, 1]    3002.0    1.0  \n",
              "β[2, 2]    3133.0    1.0  \n",
              "β[3, 0]    3136.0    1.0  \n",
              "β[3, 1]    3028.0    1.0  \n",
              "β[3, 2]    2893.0    1.0  "
            ],
            "text/html": [
              "\n",
              "  <div id=\"df-684893ff-7bb0-40b0-95a6-8cfd60ec19a0\" class=\"colab-df-container\">\n",
              "    <div>\n",
              "<style scoped>\n",
              "    .dataframe tbody tr th:only-of-type {\n",
              "        vertical-align: middle;\n",
              "    }\n",
              "\n",
              "    .dataframe tbody tr th {\n",
              "        vertical-align: top;\n",
              "    }\n",
              "\n",
              "    .dataframe thead th {\n",
              "        text-align: right;\n",
              "    }\n",
              "</style>\n",
              "<table border=\"1\" class=\"dataframe\">\n",
              "  <thead>\n",
              "    <tr style=\"text-align: right;\">\n",
              "      <th></th>\n",
              "      <th>mean</th>\n",
              "      <th>sd</th>\n",
              "      <th>hdi_3%</th>\n",
              "      <th>hdi_97%</th>\n",
              "      <th>mcse_mean</th>\n",
              "      <th>mcse_sd</th>\n",
              "      <th>ess_bulk</th>\n",
              "      <th>ess_tail</th>\n",
              "      <th>r_hat</th>\n",
              "    </tr>\n",
              "  </thead>\n",
              "  <tbody>\n",
              "    <tr>\n",
              "      <th>α[0]</th>\n",
              "      <td>-1.128</td>\n",
              "      <td>3.766</td>\n",
              "      <td>-7.880</td>\n",
              "      <td>6.266</td>\n",
              "      <td>0.066</td>\n",
              "      <td>0.054</td>\n",
              "      <td>3236.0</td>\n",
              "      <td>2625.0</td>\n",
              "      <td>1.0</td>\n",
              "    </tr>\n",
              "    <tr>\n",
              "      <th>α[1]</th>\n",
              "      <td>5.855</td>\n",
              "      <td>3.194</td>\n",
              "      <td>0.224</td>\n",
              "      <td>12.107</td>\n",
              "      <td>0.060</td>\n",
              "      <td>0.043</td>\n",
              "      <td>2830.0</td>\n",
              "      <td>2885.0</td>\n",
              "      <td>1.0</td>\n",
              "    </tr>\n",
              "    <tr>\n",
              "      <th>α[2]</th>\n",
              "      <td>-4.826</td>\n",
              "      <td>3.432</td>\n",
              "      <td>-11.594</td>\n",
              "      <td>1.316</td>\n",
              "      <td>0.061</td>\n",
              "      <td>0.045</td>\n",
              "      <td>3133.0</td>\n",
              "      <td>2971.0</td>\n",
              "      <td>1.0</td>\n",
              "    </tr>\n",
              "    <tr>\n",
              "      <th>β[0, 0]</th>\n",
              "      <td>-2.461</td>\n",
              "      <td>4.161</td>\n",
              "      <td>-10.526</td>\n",
              "      <td>5.205</td>\n",
              "      <td>0.067</td>\n",
              "      <td>0.059</td>\n",
              "      <td>3794.0</td>\n",
              "      <td>3053.0</td>\n",
              "      <td>1.0</td>\n",
              "    </tr>\n",
              "    <tr>\n",
              "      <th>β[0, 1]</th>\n",
              "      <td>1.970</td>\n",
              "      <td>3.316</td>\n",
              "      <td>-4.186</td>\n",
              "      <td>8.424</td>\n",
              "      <td>0.068</td>\n",
              "      <td>0.050</td>\n",
              "      <td>2369.0</td>\n",
              "      <td>2622.0</td>\n",
              "      <td>1.0</td>\n",
              "    </tr>\n",
              "    <tr>\n",
              "      <th>β[0, 2]</th>\n",
              "      <td>0.606</td>\n",
              "      <td>3.332</td>\n",
              "      <td>-5.372</td>\n",
              "      <td>7.274</td>\n",
              "      <td>0.069</td>\n",
              "      <td>0.052</td>\n",
              "      <td>2312.0</td>\n",
              "      <td>2244.0</td>\n",
              "      <td>1.0</td>\n",
              "    </tr>\n",
              "    <tr>\n",
              "      <th>β[1, 0]</th>\n",
              "      <td>3.258</td>\n",
              "      <td>3.395</td>\n",
              "      <td>-2.710</td>\n",
              "      <td>9.906</td>\n",
              "      <td>0.066</td>\n",
              "      <td>0.048</td>\n",
              "      <td>2678.0</td>\n",
              "      <td>2749.0</td>\n",
              "      <td>1.0</td>\n",
              "    </tr>\n",
              "    <tr>\n",
              "      <th>β[1, 1]</th>\n",
              "      <td>-0.864</td>\n",
              "      <td>3.025</td>\n",
              "      <td>-6.356</td>\n",
              "      <td>5.093</td>\n",
              "      <td>0.064</td>\n",
              "      <td>0.046</td>\n",
              "      <td>2235.0</td>\n",
              "      <td>2242.0</td>\n",
              "      <td>1.0</td>\n",
              "    </tr>\n",
              "    <tr>\n",
              "      <th>β[1, 2]</th>\n",
              "      <td>-2.268</td>\n",
              "      <td>3.050</td>\n",
              "      <td>-8.011</td>\n",
              "      <td>3.336</td>\n",
              "      <td>0.065</td>\n",
              "      <td>0.046</td>\n",
              "      <td>2227.0</td>\n",
              "      <td>2475.0</td>\n",
              "      <td>1.0</td>\n",
              "    </tr>\n",
              "    <tr>\n",
              "      <th>β[2, 0]</th>\n",
              "      <td>-6.319</td>\n",
              "      <td>4.300</td>\n",
              "      <td>-14.562</td>\n",
              "      <td>1.564</td>\n",
              "      <td>0.071</td>\n",
              "      <td>0.054</td>\n",
              "      <td>3708.0</td>\n",
              "      <td>2755.0</td>\n",
              "      <td>1.0</td>\n",
              "    </tr>\n",
              "    <tr>\n",
              "      <th>β[2, 1]</th>\n",
              "      <td>-1.555</td>\n",
              "      <td>3.654</td>\n",
              "      <td>-8.427</td>\n",
              "      <td>5.317</td>\n",
              "      <td>0.062</td>\n",
              "      <td>0.054</td>\n",
              "      <td>3526.0</td>\n",
              "      <td>3002.0</td>\n",
              "      <td>1.0</td>\n",
              "    </tr>\n",
              "    <tr>\n",
              "      <th>β[2, 2]</th>\n",
              "      <td>7.660</td>\n",
              "      <td>3.772</td>\n",
              "      <td>0.598</td>\n",
              "      <td>14.655</td>\n",
              "      <td>0.061</td>\n",
              "      <td>0.044</td>\n",
              "      <td>3796.0</td>\n",
              "      <td>3133.0</td>\n",
              "      <td>1.0</td>\n",
              "    </tr>\n",
              "    <tr>\n",
              "      <th>β[3, 0]</th>\n",
              "      <td>-5.829</td>\n",
              "      <td>4.248</td>\n",
              "      <td>-14.152</td>\n",
              "      <td>2.004</td>\n",
              "      <td>0.074</td>\n",
              "      <td>0.055</td>\n",
              "      <td>3292.0</td>\n",
              "      <td>3136.0</td>\n",
              "      <td>1.0</td>\n",
              "    </tr>\n",
              "    <tr>\n",
              "      <th>β[3, 1]</th>\n",
              "      <td>-0.888</td>\n",
              "      <td>3.486</td>\n",
              "      <td>-7.276</td>\n",
              "      <td>5.645</td>\n",
              "      <td>0.068</td>\n",
              "      <td>0.049</td>\n",
              "      <td>2625.0</td>\n",
              "      <td>3028.0</td>\n",
              "      <td>1.0</td>\n",
              "    </tr>\n",
              "    <tr>\n",
              "      <th>β[3, 2]</th>\n",
              "      <td>6.956</td>\n",
              "      <td>3.616</td>\n",
              "      <td>0.164</td>\n",
              "      <td>13.683</td>\n",
              "      <td>0.070</td>\n",
              "      <td>0.051</td>\n",
              "      <td>2697.0</td>\n",
              "      <td>2893.0</td>\n",
              "      <td>1.0</td>\n",
              "    </tr>\n",
              "  </tbody>\n",
              "</table>\n",
              "</div>\n",
              "    <div class=\"colab-df-buttons\">\n",
              "\n",
              "  <div class=\"colab-df-container\">\n",
              "    <button class=\"colab-df-convert\" onclick=\"convertToInteractive('df-684893ff-7bb0-40b0-95a6-8cfd60ec19a0')\"\n",
              "            title=\"Convert this dataframe to an interactive table.\"\n",
              "            style=\"display:none;\">\n",
              "\n",
              "  <svg xmlns=\"http://www.w3.org/2000/svg\" height=\"24px\" viewBox=\"0 -960 960 960\">\n",
              "    <path d=\"M120-120v-720h720v720H120Zm60-500h600v-160H180v160Zm220 220h160v-160H400v160Zm0 220h160v-160H400v160ZM180-400h160v-160H180v160Zm440 0h160v-160H620v160ZM180-180h160v-160H180v160Zm440 0h160v-160H620v160Z\"/>\n",
              "  </svg>\n",
              "    </button>\n",
              "\n",
              "  <style>\n",
              "    .colab-df-container {\n",
              "      display:flex;\n",
              "      gap: 12px;\n",
              "    }\n",
              "\n",
              "    .colab-df-convert {\n",
              "      background-color: #E8F0FE;\n",
              "      border: none;\n",
              "      border-radius: 50%;\n",
              "      cursor: pointer;\n",
              "      display: none;\n",
              "      fill: #1967D2;\n",
              "      height: 32px;\n",
              "      padding: 0 0 0 0;\n",
              "      width: 32px;\n",
              "    }\n",
              "\n",
              "    .colab-df-convert:hover {\n",
              "      background-color: #E2EBFA;\n",
              "      box-shadow: 0px 1px 2px rgba(60, 64, 67, 0.3), 0px 1px 3px 1px rgba(60, 64, 67, 0.15);\n",
              "      fill: #174EA6;\n",
              "    }\n",
              "\n",
              "    .colab-df-buttons div {\n",
              "      margin-bottom: 4px;\n",
              "    }\n",
              "\n",
              "    [theme=dark] .colab-df-convert {\n",
              "      background-color: #3B4455;\n",
              "      fill: #D2E3FC;\n",
              "    }\n",
              "\n",
              "    [theme=dark] .colab-df-convert:hover {\n",
              "      background-color: #434B5C;\n",
              "      box-shadow: 0px 1px 3px 1px rgba(0, 0, 0, 0.15);\n",
              "      filter: drop-shadow(0px 1px 2px rgba(0, 0, 0, 0.3));\n",
              "      fill: #FFFFFF;\n",
              "    }\n",
              "  </style>\n",
              "\n",
              "    <script>\n",
              "      const buttonEl =\n",
              "        document.querySelector('#df-684893ff-7bb0-40b0-95a6-8cfd60ec19a0 button.colab-df-convert');\n",
              "      buttonEl.style.display =\n",
              "        google.colab.kernel.accessAllowed ? 'block' : 'none';\n",
              "\n",
              "      async function convertToInteractive(key) {\n",
              "        const element = document.querySelector('#df-684893ff-7bb0-40b0-95a6-8cfd60ec19a0');\n",
              "        const dataTable =\n",
              "          await google.colab.kernel.invokeFunction('convertToInteractive',\n",
              "                                                    [key], {});\n",
              "        if (!dataTable) return;\n",
              "\n",
              "        const docLinkHtml = 'Like what you see? Visit the ' +\n",
              "          '<a target=\"_blank\" href=https://colab.research.google.com/notebooks/data_table.ipynb>data table notebook</a>'\n",
              "          + ' to learn more about interactive tables.';\n",
              "        element.innerHTML = '';\n",
              "        dataTable['output_type'] = 'display_data';\n",
              "        await google.colab.output.renderOutput(dataTable, element);\n",
              "        const docLink = document.createElement('div');\n",
              "        docLink.innerHTML = docLinkHtml;\n",
              "        element.appendChild(docLink);\n",
              "      }\n",
              "    </script>\n",
              "  </div>\n",
              "\n",
              "\n",
              "<div id=\"df-ef7fb296-e9fe-4e72-b5b1-92b781900cad\">\n",
              "  <button class=\"colab-df-quickchart\" onclick=\"quickchart('df-ef7fb296-e9fe-4e72-b5b1-92b781900cad')\"\n",
              "            title=\"Suggest charts\"\n",
              "            style=\"display:none;\">\n",
              "\n",
              "<svg xmlns=\"http://www.w3.org/2000/svg\" height=\"24px\"viewBox=\"0 0 24 24\"\n",
              "     width=\"24px\">\n",
              "    <g>\n",
              "        <path d=\"M19 3H5c-1.1 0-2 .9-2 2v14c0 1.1.9 2 2 2h14c1.1 0 2-.9 2-2V5c0-1.1-.9-2-2-2zM9 17H7v-7h2v7zm4 0h-2V7h2v10zm4 0h-2v-4h2v4z\"/>\n",
              "    </g>\n",
              "</svg>\n",
              "  </button>\n",
              "\n",
              "<style>\n",
              "  .colab-df-quickchart {\n",
              "      --bg-color: #E8F0FE;\n",
              "      --fill-color: #1967D2;\n",
              "      --hover-bg-color: #E2EBFA;\n",
              "      --hover-fill-color: #174EA6;\n",
              "      --disabled-fill-color: #AAA;\n",
              "      --disabled-bg-color: #DDD;\n",
              "  }\n",
              "\n",
              "  [theme=dark] .colab-df-quickchart {\n",
              "      --bg-color: #3B4455;\n",
              "      --fill-color: #D2E3FC;\n",
              "      --hover-bg-color: #434B5C;\n",
              "      --hover-fill-color: #FFFFFF;\n",
              "      --disabled-bg-color: #3B4455;\n",
              "      --disabled-fill-color: #666;\n",
              "  }\n",
              "\n",
              "  .colab-df-quickchart {\n",
              "    background-color: var(--bg-color);\n",
              "    border: none;\n",
              "    border-radius: 50%;\n",
              "    cursor: pointer;\n",
              "    display: none;\n",
              "    fill: var(--fill-color);\n",
              "    height: 32px;\n",
              "    padding: 0;\n",
              "    width: 32px;\n",
              "  }\n",
              "\n",
              "  .colab-df-quickchart:hover {\n",
              "    background-color: var(--hover-bg-color);\n",
              "    box-shadow: 0 1px 2px rgba(60, 64, 67, 0.3), 0 1px 3px 1px rgba(60, 64, 67, 0.15);\n",
              "    fill: var(--button-hover-fill-color);\n",
              "  }\n",
              "\n",
              "  .colab-df-quickchart-complete:disabled,\n",
              "  .colab-df-quickchart-complete:disabled:hover {\n",
              "    background-color: var(--disabled-bg-color);\n",
              "    fill: var(--disabled-fill-color);\n",
              "    box-shadow: none;\n",
              "  }\n",
              "\n",
              "  .colab-df-spinner {\n",
              "    border: 2px solid var(--fill-color);\n",
              "    border-color: transparent;\n",
              "    border-bottom-color: var(--fill-color);\n",
              "    animation:\n",
              "      spin 1s steps(1) infinite;\n",
              "  }\n",
              "\n",
              "  @keyframes spin {\n",
              "    0% {\n",
              "      border-color: transparent;\n",
              "      border-bottom-color: var(--fill-color);\n",
              "      border-left-color: var(--fill-color);\n",
              "    }\n",
              "    20% {\n",
              "      border-color: transparent;\n",
              "      border-left-color: var(--fill-color);\n",
              "      border-top-color: var(--fill-color);\n",
              "    }\n",
              "    30% {\n",
              "      border-color: transparent;\n",
              "      border-left-color: var(--fill-color);\n",
              "      border-top-color: var(--fill-color);\n",
              "      border-right-color: var(--fill-color);\n",
              "    }\n",
              "    40% {\n",
              "      border-color: transparent;\n",
              "      border-right-color: var(--fill-color);\n",
              "      border-top-color: var(--fill-color);\n",
              "    }\n",
              "    60% {\n",
              "      border-color: transparent;\n",
              "      border-right-color: var(--fill-color);\n",
              "    }\n",
              "    80% {\n",
              "      border-color: transparent;\n",
              "      border-right-color: var(--fill-color);\n",
              "      border-bottom-color: var(--fill-color);\n",
              "    }\n",
              "    90% {\n",
              "      border-color: transparent;\n",
              "      border-bottom-color: var(--fill-color);\n",
              "    }\n",
              "  }\n",
              "</style>\n",
              "\n",
              "  <script>\n",
              "    async function quickchart(key) {\n",
              "      const quickchartButtonEl =\n",
              "        document.querySelector('#' + key + ' button');\n",
              "      quickchartButtonEl.disabled = true;  // To prevent multiple clicks.\n",
              "      quickchartButtonEl.classList.add('colab-df-spinner');\n",
              "      try {\n",
              "        const charts = await google.colab.kernel.invokeFunction(\n",
              "            'suggestCharts', [key], {});\n",
              "      } catch (error) {\n",
              "        console.error('Error during call to suggestCharts:', error);\n",
              "      }\n",
              "      quickchartButtonEl.classList.remove('colab-df-spinner');\n",
              "      quickchartButtonEl.classList.add('colab-df-quickchart-complete');\n",
              "    }\n",
              "    (() => {\n",
              "      let quickchartButtonEl =\n",
              "        document.querySelector('#df-ef7fb296-e9fe-4e72-b5b1-92b781900cad button');\n",
              "      quickchartButtonEl.style.display =\n",
              "        google.colab.kernel.accessAllowed ? 'block' : 'none';\n",
              "    })();\n",
              "  </script>\n",
              "</div>\n",
              "    </div>\n",
              "  </div>\n"
            ],
            "application/vnd.google.colaboratory.intrinsic+json": {
              "type": "dataframe",
              "summary": "{\n  \"name\": \"az\",\n  \"rows\": 15,\n  \"fields\": [\n    {\n      \"column\": \"mean\",\n      \"properties\": {\n        \"dtype\": \"number\",\n        \"std\": 4.390138898984969,\n        \"min\": -6.319,\n        \"max\": 7.66,\n        \"num_unique_values\": 15,\n        \"samples\": [\n          -6.319,\n          7.66,\n          -1.128\n        ],\n        \"semantic_type\": \"\",\n        \"description\": \"\"\n      }\n    },\n    {\n      \"column\": \"sd\",\n      \"properties\": {\n        \"dtype\": \"number\",\n        \"std\": 0.40658470680723324,\n        \"min\": 3.025,\n        \"max\": 4.3,\n        \"num_unique_values\": 15,\n        \"samples\": [\n          4.3,\n          3.772,\n          3.766\n        ],\n        \"semantic_type\": \"\",\n        \"description\": \"\"\n      }\n    },\n    {\n      \"column\": \"hdi_3%\",\n      \"properties\": {\n        \"dtype\": \"number\",\n        \"std\": 4.890114086701084,\n        \"min\": -14.562,\n        \"max\": 0.598,\n        \"num_unique_values\": 15,\n        \"samples\": [\n          -14.562,\n          0.598,\n          -7.88\n        ],\n        \"semantic_type\": \"\",\n        \"description\": \"\"\n      }\n    },\n    {\n      \"column\": \"hdi_97%\",\n      \"properties\": {\n        \"dtype\": \"number\",\n        \"std\": 4.238553133637311,\n        \"min\": 1.316,\n        \"max\": 14.655,\n        \"num_unique_values\": 15,\n        \"samples\": [\n          1.564,\n          14.655,\n          6.266\n        ],\n        \"semantic_type\": \"\",\n        \"description\": \"\"\n      }\n    },\n    {\n      \"column\": \"mcse_mean\",\n      \"properties\": {\n        \"dtype\": \"number\",\n        \"std\": 0.004050867044167682,\n        \"min\": 0.06,\n        \"max\": 0.074,\n        \"num_unique_values\": 12,\n        \"samples\": [\n          0.074,\n          0.062,\n          0.066\n        ],\n        \"semantic_type\": \"\",\n        \"description\": \"\"\n      }\n    },\n    {\n      \"column\": \"mcse_sd\",\n      \"properties\": {\n        \"dtype\": \"number\",\n        \"std\": 0.0046751623348438775,\n        \"min\": 0.043,\n        \"max\": 0.059,\n        \"num_unique_values\": 12,\n        \"samples\": [\n          0.049,\n          0.055,\n          0.054\n        ],\n        \"semantic_type\": \"\",\n        \"description\": \"\"\n      }\n    },\n    {\n      \"column\": \"ess_bulk\",\n      \"properties\": {\n        \"dtype\": \"number\",\n        \"std\": 573.2322972989804,\n        \"min\": 2227.0,\n        \"max\": 3796.0,\n        \"num_unique_values\": 15,\n        \"samples\": [\n          3708.0,\n          3796.0,\n          3236.0\n        ],\n        \"semantic_type\": \"\",\n        \"description\": \"\"\n      }\n    },\n    {\n      \"column\": \"ess_tail\",\n      \"properties\": {\n        \"dtype\": \"number\",\n        \"std\": 294.7669458758094,\n        \"min\": 2242.0,\n        \"max\": 3136.0,\n        \"num_unique_values\": 15,\n        \"samples\": [\n          2755.0,\n          3133.0,\n          2625.0\n        ],\n        \"semantic_type\": \"\",\n        \"description\": \"\"\n      }\n    },\n    {\n      \"column\": \"r_hat\",\n      \"properties\": {\n        \"dtype\": \"number\",\n        \"std\": 0.0,\n        \"min\": 1.0,\n        \"max\": 1.0,\n        \"num_unique_values\": 1,\n        \"samples\": [\n          1.0\n        ],\n        \"semantic_type\": \"\",\n        \"description\": \"\"\n      }\n    }\n  ]\n}"
            }
          },
          "metadata": {},
          "execution_count": 16
        }
      ]
    },
    {
      "cell_type": "markdown",
      "source": [
        "**Notes**\n",
        "\n",
        "(i) 98% is the accuracy on our data; **a true test to evaluate the performance of our model will be to check it on data not used to fit the model**\n",
        "\n",
        "(ii) You can check that we obtained a wide posterior. This is a result of the fact softmax normalizes probability to 1. Therefore, when we used priors on the parameters of 4 species, in reality we can \"eliminate\" one species\" from the problem, in that one of them can be calculated from the other 3 once we know their probabilities (again, they have to sum up to 1!)\n",
        "\n",
        "(iii) Below is a suggested solution, that does fix the extra parameters to some value, e.g., zero"
      ],
      "metadata": {
        "id": "fBHsE4aLGDas"
      }
    },
    {
      "cell_type": "code",
      "source": [
        "with pm.Model() as model_sf:\n",
        "    α = pm.Normal('α', mu=0, sigma=2, shape=2)\n",
        "    β = pm.Normal('β', mu=0, sigma=2, shape=(4,2))\n",
        "    α_f = pm.math.concatenate([[0] ,α])\n",
        "    β_f = pm.math.concatenate([np.zeros((4,1)) , β], axis=1)\n",
        "    μ = pm.Deterministic('μ', α_f + pm.math.dot(x_s, β_f))\n",
        "    θ = pm.math.softmax(μ, axis = 1)\n",
        "    yl = pm.Categorical('yl', p=θ, observed=y_s)\n",
        "    idata_sf = pm.sample(2000, target_accept=.92)\n"
      ],
      "metadata": {
        "colab": {
          "base_uri": "https://localhost:8080/",
          "height": 57
        },
        "id": "6zDSagI7GRW8",
        "outputId": "833cbe86-f2e7-4dc4-890b-3c1ab5b416a0"
      },
      "execution_count": 17,
      "outputs": [
        {
          "output_type": "display_data",
          "data": {
            "text/plain": [
              "<IPython.core.display.HTML object>"
            ],
            "text/html": [
              "\n",
              "<style>\n",
              "    /* Turns off some styling */\n",
              "    progress {\n",
              "        /* gets rid of default border in Firefox and Opera. */\n",
              "        border: none;\n",
              "        /* Needs to be in here for Safari polyfill so background images work as expected. */\n",
              "        background-size: auto;\n",
              "    }\n",
              "    progress:not([value]), progress:not([value])::-webkit-progress-bar {\n",
              "        background: repeating-linear-gradient(45deg, #7e7e7e, #7e7e7e 10px, #5c5c5c 10px, #5c5c5c 20px);\n",
              "    }\n",
              "    .progress-bar-interrupted, .progress-bar-interrupted::-webkit-progress-bar {\n",
              "        background: #F44336;\n",
              "    }\n",
              "</style>\n"
            ]
          },
          "metadata": {}
        },
        {
          "output_type": "display_data",
          "data": {
            "text/plain": [
              "<IPython.core.display.HTML object>"
            ],
            "text/html": [
              "\n",
              "    <div>\n",
              "      <progress value='3000' class='' max='3000' style='width:300px; height:20px; vertical-align: middle;'></progress>\n",
              "      100.00% [3000/3000 00:31&lt;00:00 Sampling chain 0, 0 divergences]\n",
              "    </div>\n",
              "    "
            ]
          },
          "metadata": {}
        },
        {
          "output_type": "display_data",
          "data": {
            "text/plain": [
              "<IPython.core.display.HTML object>"
            ],
            "text/html": [
              "\n",
              "<style>\n",
              "    /* Turns off some styling */\n",
              "    progress {\n",
              "        /* gets rid of default border in Firefox and Opera. */\n",
              "        border: none;\n",
              "        /* Needs to be in here for Safari polyfill so background images work as expected. */\n",
              "        background-size: auto;\n",
              "    }\n",
              "    progress:not([value]), progress:not([value])::-webkit-progress-bar {\n",
              "        background: repeating-linear-gradient(45deg, #7e7e7e, #7e7e7e 10px, #5c5c5c 10px, #5c5c5c 20px);\n",
              "    }\n",
              "    .progress-bar-interrupted, .progress-bar-interrupted::-webkit-progress-bar {\n",
              "        background: #F44336;\n",
              "    }\n",
              "</style>\n"
            ]
          },
          "metadata": {}
        },
        {
          "output_type": "display_data",
          "data": {
            "text/plain": [
              "<IPython.core.display.HTML object>"
            ],
            "text/html": [
              "\n",
              "    <div>\n",
              "      <progress value='3000' class='' max='3000' style='width:300px; height:20px; vertical-align: middle;'></progress>\n",
              "      100.00% [3000/3000 00:33&lt;00:00 Sampling chain 1, 0 divergences]\n",
              "    </div>\n",
              "    "
            ]
          },
          "metadata": {}
        }
      ]
    },
    {
      "cell_type": "code",
      "source": [
        "data_pred_sf = idata_sf.posterior['μ'].mean(axis=0).mean(axis=0).values\n",
        "\n",
        "y_pred_sf = [np.exp(point)/np.sum(np.exp(point), axis=0)\n",
        "          for point in data_pred_sf]\n",
        "\n",
        "res_sf = np.sum(y_s == np.argmax(y_pred_sf, axis=1)) / len(y_s)\n",
        "print(\"accuracy is: {:1.3f}\".format(res_sf))"
      ],
      "metadata": {
        "colab": {
          "base_uri": "https://localhost:8080/"
        },
        "id": "-1f_TtGMHBBN",
        "outputId": "4965c152-2327-4149-d733-152a709b623a"
      },
      "execution_count": 18,
      "outputs": [
        {
          "output_type": "stream",
          "name": "stdout",
          "text": [
            "accuracy is: 0.973\n"
          ]
        }
      ]
    },
    {
      "cell_type": "code",
      "source": [
        "mu_pred = idata_sf.posterior['μ'].mean(axis=0)\n",
        "print(np.shape(mu_pred), type(mu_pred))"
      ],
      "metadata": {
        "colab": {
          "base_uri": "https://localhost:8080/"
        },
        "id": "il4tBHPwHulr",
        "outputId": "2020c60b-54a4-41e4-e6df-a2a7ee8e6e6f"
      },
      "execution_count": 19,
      "outputs": [
        {
          "output_type": "stream",
          "name": "stdout",
          "text": [
            "(2000, 150, 3) <class 'xarray.core.dataarray.DataArray'>\n"
          ]
        }
      ]
    },
    {
      "cell_type": "code",
      "source": [
        "import xarray as xr"
      ],
      "metadata": {
        "id": "bOUetnIway1c"
      },
      "execution_count": 20,
      "outputs": []
    },
    {
      "cell_type": "code",
      "source": [
        "def softmax(x):\n",
        "    e_x = np.exp(x)\n",
        "    return e_x.values / np.sum(e_x, axis = 2, keepdims=True).values\n"
      ],
      "metadata": {
        "id": "ESeH1kB3bW1U"
      },
      "execution_count": 21,
      "outputs": []
    },
    {
      "cell_type": "code",
      "source": [
        "res_sm= softmax(mu_pred)\n",
        "print(np.shape(res_sm))"
      ],
      "metadata": {
        "colab": {
          "base_uri": "https://localhost:8080/"
        },
        "id": "E0jDA7-lbxxf",
        "outputId": "1af4d144-bcfc-4110-dbd0-a46446258488"
      },
      "execution_count": 22,
      "outputs": [
        {
          "output_type": "stream",
          "name": "stdout",
          "text": [
            "(2000, 150, 3)\n"
          ]
        }
      ]
    },
    {
      "cell_type": "code",
      "source": [
        "# Average probabilities for prediction\n",
        "mean_probabilities = np.mean(res_sm, axis=0)\n",
        "\n",
        "# Uncertainty estimation\n",
        "lower_bound = np.percentile(res_sm, 2.5, axis=0)\n",
        "upper_bound = np.percentile(res_sm, 97.5, axis=0)\n",
        "\n",
        "# class_assignment\n",
        "class_prediction = np.argmax(y_pred_sf, axis=1)"
      ],
      "metadata": {
        "id": "XBMsDjATcp_q"
      },
      "execution_count": 23,
      "outputs": []
    },
    {
      "cell_type": "code",
      "source": [
        "print(np.shape(class_prediction),np.shape(mean_probabilities),np.shape(lower_bound))"
      ],
      "metadata": {
        "colab": {
          "base_uri": "https://localhost:8080/"
        },
        "id": "v8UU3usggzAp",
        "outputId": "f73ead4f-5498-4b72-df8a-d5738b3a1e2d"
      },
      "execution_count": 24,
      "outputs": [
        {
          "output_type": "stream",
          "name": "stdout",
          "text": [
            "(150,) (150, 3) (150, 3)\n"
          ]
        }
      ]
    },
    {
      "cell_type": "code",
      "source": [
        "print(\"\\n\" + \"=\" * 39)\n",
        "print(\"DATA:\")\n",
        "print(\"=\" * 39)\n",
        "\n",
        "print(\"class, probabilities, ranges(94%HDI):\")\n",
        "for count, (g, h, i, j, k) in enumerate(zip(y_s, class_prediction, mean_probabilities, lower_bound, upper_bound)):\n",
        "    print(f\"data point: {count}, ground-truth: {g}, class: {h}\")\n",
        "    for l in range(3):\n",
        "        print(f\"    idx: {l}, mean prob. {i[l]:.4f}, 94% HDI: [{j[l]:.4f},{k[l]:.4f}]\")\n",
        "    if count >= 5:\n",
        "      break\n",
        "print(\"=\" * 39)\n"
      ],
      "metadata": {
        "colab": {
          "base_uri": "https://localhost:8080/"
        },
        "id": "14D2javhfNGG",
        "outputId": "76a23bab-a556-47fd-ddba-6442fcb2ce91"
      },
      "execution_count": 25,
      "outputs": [
        {
          "output_type": "stream",
          "name": "stdout",
          "text": [
            "\n",
            "=======================================\n",
            "DATA:\n",
            "=======================================\n",
            "class, probabilities, ranges(94%HDI):\n",
            "data point: 0, ground-truth: 0, class: 0\n",
            "    idx: 0, mean prob. 0.9905, 94% HDI: [0.9698,0.9991]\n",
            "    idx: 1, mean prob. 0.0095, 94% HDI: [0.0009,0.0302]\n",
            "    idx: 2, mean prob. 0.0000, 94% HDI: [0.0000,0.0000]\n",
            "data point: 1, ground-truth: 0, class: 0\n",
            "    idx: 0, mean prob. 0.9579, 94% HDI: [0.8851,0.9927]\n",
            "    idx: 1, mean prob. 0.0421, 94% HDI: [0.0073,0.1149]\n",
            "    idx: 2, mean prob. 0.0000, 94% HDI: [0.0000,0.0000]\n",
            "data point: 2, ground-truth: 0, class: 0\n",
            "    idx: 0, mean prob. 0.9893, 94% HDI: [0.9682,0.9987]\n",
            "    idx: 1, mean prob. 0.0107, 94% HDI: [0.0013,0.0318]\n",
            "    idx: 2, mean prob. 0.0000, 94% HDI: [0.0000,0.0000]\n",
            "data point: 3, ground-truth: 0, class: 0\n",
            "    idx: 0, mean prob. 0.9845, 94% HDI: [0.9522,0.9981]\n",
            "    idx: 1, mean prob. 0.0155, 94% HDI: [0.0019,0.0478]\n",
            "    idx: 2, mean prob. 0.0000, 94% HDI: [0.0000,0.0000]\n",
            "data point: 4, ground-truth: 0, class: 0\n",
            "    idx: 0, mean prob. 0.9948, 94% HDI: [0.9820,0.9996]\n",
            "    idx: 1, mean prob. 0.0052, 94% HDI: [0.0004,0.0180]\n",
            "    idx: 2, mean prob. 0.0000, 94% HDI: [0.0000,0.0000]\n",
            "data point: 5, ground-truth: 0, class: 0\n",
            "    idx: 0, mean prob. 0.9917, 94% HDI: [0.9660,0.9996]\n",
            "    idx: 1, mean prob. 0.0083, 94% HDI: [0.0004,0.0340]\n",
            "    idx: 2, mean prob. 0.0000, 94% HDI: [0.0000,0.0000]\n",
            "=======================================\n"
          ]
        }
      ]
    },
    {
      "cell_type": "markdown",
      "source": [
        "### Final remarks: Robust Logistic Regression (extra, for the curious…)"
      ],
      "metadata": {
        "id": "k-SloyjWy76y"
      }
    },
    {
      "cell_type": "markdown",
      "source": [
        "Let’s take the dataset for the species setosa and versicolor only. Let’s complicate the problem by assuming the presence of unusual seros and/or ones in our dataset."
      ],
      "metadata": {
        "id": "8I3RnUxty_wZ"
      }
    },
    {
      "cell_type": "code",
      "source": [
        "iris = sns.load_dataset(\"iris\")\n",
        "df = iris.query(\"species == ('setosa', 'versicolor')\")\n",
        "y_0 = pd.Categorical(df['species']).codes\n",
        "x_n = 'sepal_length'\n",
        "x_0 = df[x_n].values\n",
        "y_0 = np.concatenate((y_0, np.ones(6, dtype=int)))\n",
        "x_0 = np.concatenate((x_0, [4.2, 4.5, 4.0, 4.3, 4.2, 4.4]))\n",
        "x_c = x_0 - x_0.mean()\n",
        "plt.plot(x_c, y_0, 'o', color='k');\n",
        "plt.xlabel(x_n)"
      ],
      "metadata": {
        "colab": {
          "base_uri": "https://localhost:8080/",
          "height": 525
        },
        "id": "CnpX-oeLy-D-",
        "outputId": "52dd9cfb-b926-4309-c293-1ef58109f6c6"
      },
      "execution_count": 33,
      "outputs": [
        {
          "output_type": "execute_result",
          "data": {
            "text/plain": [
              "Text(0.5, 0, 'sepal_length')"
            ]
          },
          "metadata": {},
          "execution_count": 33
        },
        {
          "output_type": "display_data",
          "data": {
            "text/plain": [
              "<Figure size 720x480 with 1 Axes>"
            ],
            "image/png": "[encoded data removed]"
          },
          "metadata": {}
        }
      ]
    },
    {
      "cell_type": "markdown",
      "source": [
        "We have some versicolor (category 1) with some unusually short sepal_length...\n",
        "\n",
        "We can fix this with a **mixture model**. We say that the outpu variable comes with $\\pi$ probability of random guessing (0.5 chance for category 1 to be indeed 1), and with 1-$\\pi$ probability from a logistic regression model:\n",
        "\n",
        "$p= \\pi \\ 0.5 + (1-\\pi) \\ logistic(\\alpha+X\\beta)$\n",
        "\n",
        "Notice that when $\\pi=1$, we get $p=0.5$ (random guess), whereas when $\\pi=0$ we get the logistic regression.\n",
        "\n",
        "This model can be implemented with a slight modification of what we saw before.\n",
        "\n",
        "N.B. $\\pi$ is a new variable in our model"
      ],
      "metadata": {
        "id": "EpRZQ54jza7J"
      }
    },
    {
      "cell_type": "code",
      "source": [
        "with pm.Model() as model_rlg:\n",
        "    α = pm.Normal('α', mu=0, sigma=10)\n",
        "    β = pm.Normal('β', mu=0, sigma=10)\n",
        "\n",
        "    μ = α + x_c *  β\n",
        "    θ = pm.Deterministic('θ', pm.math.sigmoid(μ))\n",
        "    bd = pm.Deterministic('bd', -α/β)\n",
        "\n",
        "    π = pm.Beta('π', 1., 1.)\n",
        "    p = π * 0.5 + (1 - π) * θ\n",
        "\n",
        "    yl = pm.Bernoulli('yl', p=p, observed=y_0)\n",
        "\n",
        "    idata_rlg = pm.sample(2000, target_accept=0.95,  tune = 2000, return_inferencedata=True)"
      ],
      "metadata": {
        "colab": {
          "base_uri": "https://localhost:8080/",
          "height": 57
        },
        "id": "_ry6GG8rzBr6",
        "outputId": "88a557e8-c962-4f4a-e011-500bd06d196c"
      },
      "execution_count": 35,
      "outputs": [
        {
          "output_type": "display_data",
          "data": {
            "text/plain": [
              "<IPython.core.display.HTML object>"
            ],
            "text/html": [
              "\n",
              "<style>\n",
              "    /* Turns off some styling */\n",
              "    progress {\n",
              "        /* gets rid of default border in Firefox and Opera. */\n",
              "        border: none;\n",
              "        /* Needs to be in here for Safari polyfill so background images work as expected. */\n",
              "        background-size: auto;\n",
              "    }\n",
              "    progress:not([value]), progress:not([value])::-webkit-progress-bar {\n",
              "        background: repeating-linear-gradient(45deg, #7e7e7e, #7e7e7e 10px, #5c5c5c 10px, #5c5c5c 20px);\n",
              "    }\n",
              "    .progress-bar-interrupted, .progress-bar-interrupted::-webkit-progress-bar {\n",
              "        background: #F44336;\n",
              "    }\n",
              "</style>\n"
            ]
          },
          "metadata": {}
        },
        {
          "output_type": "display_data",
          "data": {
            "text/plain": [
              "<IPython.core.display.HTML object>"
            ],
            "text/html": [
              "\n",
              "    <div>\n",
              "      <progress value='4000' class='' max='4000' style='width:300px; height:20px; vertical-align: middle;'></progress>\n",
              "      100.00% [4000/4000 00:08&lt;00:00 Sampling chain 0, 0 divergences]\n",
              "    </div>\n",
              "    "
            ]
          },
          "metadata": {}
        },
        {
          "output_type": "display_data",
          "data": {
            "text/plain": [
              "<IPython.core.display.HTML object>"
            ],
            "text/html": [
              "\n",
              "<style>\n",
              "    /* Turns off some styling */\n",
              "    progress {\n",
              "        /* gets rid of default border in Firefox and Opera. */\n",
              "        border: none;\n",
              "        /* Needs to be in here for Safari polyfill so background images work as expected. */\n",
              "        background-size: auto;\n",
              "    }\n",
              "    progress:not([value]), progress:not([value])::-webkit-progress-bar {\n",
              "        background: repeating-linear-gradient(45deg, #7e7e7e, #7e7e7e 10px, #5c5c5c 10px, #5c5c5c 20px);\n",
              "    }\n",
              "    .progress-bar-interrupted, .progress-bar-interrupted::-webkit-progress-bar {\n",
              "        background: #F44336;\n",
              "    }\n",
              "</style>\n"
            ]
          },
          "metadata": {}
        },
        {
          "output_type": "display_data",
          "data": {
            "text/plain": [
              "<IPython.core.display.HTML object>"
            ],
            "text/html": [
              "\n",
              "    <div>\n",
              "      <progress value='4000' class='' max='4000' style='width:300px; height:20px; vertical-align: middle;'></progress>\n",
              "      100.00% [4000/4000 00:08&lt;00:00 Sampling chain 1, 1 divergences]\n",
              "    </div>\n",
              "    "
            ]
          },
          "metadata": {}
        }
      ]
    },
    {
      "cell_type": "code",
      "source": [
        "theta = idata_rlg.posterior['θ'].mean(axis=0).mean(axis=0)\n",
        "idx = np.argsort(x_c)\n",
        "\n",
        "np.random.seed(123)\n",
        "\n",
        "\n",
        "plt.plot(x_c[idx], theta[idx], color='C2', lw=3)\n",
        "\n",
        "plt.vlines(idata_rlg.posterior['bd'].mean(), 0, 1, color='k')\n",
        "\n",
        "bd_hpd = az.hdi(idata_rlg.posterior['bd'])\n",
        "\n",
        "\n",
        "plt.fill_betweenx([0, 1], bd_hpd.bd[0].values, bd_hpd.bd[1].values, color='k', alpha=0.5)\n",
        "\n",
        "\n",
        "plt.scatter(x_c, np.random.normal(y_0, 0.02),\n",
        "            marker='.', color=[f'C{x}' for x in y_0])\n",
        "\n",
        "\n",
        "az.plot_hdi(x_c, idata_rlg.posterior['θ'], color='C2')  #green band\n",
        "\n",
        "\n",
        "plt.xlabel(x_n)\n",
        "plt.ylabel('θ', rotation=0)\n",
        "# use original scale for xticks\n",
        "locs, _ = plt.xticks()\n",
        "plt.xticks(locs, np.round(locs + x_0.mean(), 1))"
      ],
      "metadata": {
        "colab": {
          "base_uri": "https://localhost:8080/",
          "height": 814
        },
        "id": "KRVlxobhzwIR",
        "outputId": "f3adfb7d-fc1b-4c05-fdd8-1fab83cf26fd"
      },
      "execution_count": 36,
      "outputs": [
        {
          "output_type": "execute_result",
          "data": {
            "text/plain": [
              "([<matplotlib.axis.XTick at 0x7d1db3434c10>,\n",
              "  <matplotlib.axis.XTick at 0x7d1db3437be0>,\n",
              "  <matplotlib.axis.XTick at 0x7d1e1727a2c0>,\n",
              "  <matplotlib.axis.XTick at 0x7d1db3d28f40>,\n",
              "  <matplotlib.axis.XTick at 0x7d1dbf50bdf0>,\n",
              "  <matplotlib.axis.XTick at 0x7d1db3b2afe0>,\n",
              "  <matplotlib.axis.XTick at 0x7d1db3d3cac0>,\n",
              "  <matplotlib.axis.XTick at 0x7d1db3b988b0>,\n",
              "  <matplotlib.axis.XTick at 0x7d1db3b993f0>],\n",
              " [Text(-2.0, 0, '3.4'),\n",
              "  Text(-1.5, 0, '3.9'),\n",
              "  Text(-1.0, 0, '4.4'),\n",
              "  Text(-0.5, 0, '4.9'),\n",
              "  Text(0.0, 0, '5.4'),\n",
              "  Text(0.5, 0, '5.9'),\n",
              "  Text(1.0, 0, '6.4'),\n",
              "  Text(1.5, 0, '6.9'),\n",
              "  Text(2.0, 0, '7.4')])"
            ]
          },
          "metadata": {},
          "execution_count": 36
        },
        {
          "output_type": "display_data",
          "data": {
            "text/plain": [
              "<Figure size 720x480 with 1 Axes>"
            ],
            "image/png": "[encoded data removed]"
          },
          "metadata": {}
        }
      ]
    },
    {
      "cell_type": "code",
      "source": [],
      "metadata": {
        "id": "d370Eq_S0Det"
      },
      "execution_count": null,
      "outputs": []
    }
  ]
}