{
  "nbformat": 4,
  "nbformat_minor": 0,
  "metadata": {
    "colab": {
      "provenance": []
    },
    "kernelspec": {
      "name": "python3",
      "display_name": "Python 3"
    },
    "language_info": {
      "name": "python"
    }
  },
  "cells": [
    {
      "cell_type": "markdown",
      "source": [
        "## Bayes Net (or Belief Networks)\n"
      ],
      "metadata": {
        "id": "UihI6MPWjHbl"
      }
    },
    {
      "cell_type": "markdown",
      "source": [
        "Bayesian networks use graphical structures to depict probabilistic relationships between a multitude of variables and facilitate probabilistic inference with these variables. The 1990s witnessed the development of outstanding algorithms for deriving Bayesian networks from observational data.\n",
        "\n",
        "* We focus on intuitive strategies that emphasizes causal learning.\n",
        "\n",
        "* We highlight the connections with the Bayesian approach through straightforward examples. This approach allows us to infer causal relationships from observational data.\n",
        "\n",
        "\n",
        "Let's take this problem as our starting point or concrete example to introduce Bayesian Networks through a **graph collider**.\n",
        "\n",
        "<img src=\"https://drive.google.com/uc?export=view&id=1ugh_UoUWoZ29sRmn9GoJTl0BeKlLq8f5\" width=\"700\">\n",
        "\n",
        "Credits: https://discourse.pymc.io/t/bayes-nets-belief-networks-and-pymc/5150?page=2\n"
      ],
      "metadata": {
        "id": "DQxUAmayjQju"
      }
    },
    {
      "cell_type": "markdown",
      "source": [
        "### Bayes Network Using PyMC"
      ],
      "metadata": {
        "id": "d6rXb-r18e2_"
      }
    },
    {
      "cell_type": "code",
      "source": [
        "import pymc as pm\n",
        "import pytensor.tensor as pt\n",
        "from pytensor import shared\n",
        "import numpy as np"
      ],
      "metadata": {
        "id": "YmCIzzMMnhU4"
      },
      "execution_count": 3,
      "outputs": []
    },
    {
      "cell_type": "code",
      "source": [
        "lookup_table = shared(np.asarray([\n",
        "    [[.99, .01], [.1, .9]],\n",
        "    [[.9, .1], [.1, .9]]]))\n",
        "\n",
        "def f(smoker, covid):\n",
        "    return lookup_table[smoker, covid]\n",
        "\n",
        "with pm.Model() as m_bn:\n",
        "    smoker = pm.Categorical('smoker', [.75, .25])\n",
        "    covid = pm.Categorical('covid', [.9, .1])\n",
        "    hospital = pm.Categorical('hospital', f(smoker, covid))\n",
        "    prior_trace = pm.sample_prior_predictive(100000)\n"
      ],
      "metadata": {
        "id": "zIhlurtrzJcK"
      },
      "execution_count": 12,
      "outputs": []
    },
    {
      "cell_type": "code",
      "source": [
        "prior_covid = prior_trace.prior['covid'].values\n",
        "prior_smoker = prior_trace.prior['smoker'].values\n",
        "prior_hospital = prior_trace.prior['hospital'].values"
      ],
      "metadata": {
        "id": "XQxI_jFU7YsA"
      },
      "execution_count": 13,
      "outputs": []
    },
    {
      "cell_type": "code",
      "source": [
        "predict_proba0 = prior_covid[(prior_smoker == 0) & (prior_hospital == 1)].mean()\n",
        "predict_proba1 = prior_covid[(prior_smoker == 1) & (prior_hospital == 1)].mean()\n"
      ],
      "metadata": {
        "id": "eS9XBWxL7wdD"
      },
      "execution_count": 14,
      "outputs": []
    },
    {
      "cell_type": "code",
      "source": [
        "print(f'P(covid|¬smoking, hospital) is {predict_proba0:1.2f}')\n",
        "print(f'P(covid|smoking, hospital) is {predict_proba1:1.2f}')"
      ],
      "metadata": {
        "colab": {
          "base_uri": "https://localhost:8080/"
        },
        "id": "Jpx_4u0t8Yw-",
        "outputId": "20f109e9-1c21-4067-bda6-90590aeaee98"
      },
      "execution_count": 15,
      "outputs": [
        {
          "output_type": "stream",
          "name": "stdout",
          "text": [
            "P(covid|¬smoking, hospital) is 0.90\n",
            "P(covid|smoking, hospital) is 0.50\n"
          ]
        }
      ]
    },
    {
      "cell_type": "markdown",
      "source": [
        "### pgmpy Implementation"
      ],
      "metadata": {
        "id": "zSarw9WCJTAE"
      }
    },
    {
      "cell_type": "code",
      "source": [
        "%pip install pgmpy"
      ],
      "metadata": {
        "colab": {
          "base_uri": "https://localhost:8080/"
        },
        "id": "9e60RcgdJZkc",
        "outputId": "257d236c-0d78-4a33-f708-9d5454ac76db"
      },
      "execution_count": 11,
      "outputs": [
        {
          "output_type": "stream",
          "name": "stdout",
          "text": [
            "Collecting pgmpy\n",
            "  Downloading pgmpy-0.1.25-py3-none-any.whl (2.0 MB)\n",
            "\u001b[2K     \u001b[90m━━━━━━━━━━━━━━━━━━━━━━━━━━━━━━━━━━━━━━━━\u001b[0m \u001b[32m2.0/2.0 MB\u001b[0m \u001b[31m8.5 MB/s\u001b[0m eta \u001b[36m0:00:00\u001b[0m\n",
            "\u001b[?25hRequirement already satisfied: networkx in /usr/local/lib/python3.10/dist-packages (from pgmpy) (3.2.1)\n",
            "Requirement already satisfied: numpy in /usr/local/lib/python3.10/dist-packages (from pgmpy) (1.25.2)\n",
            "Requirement already satisfied: scipy in /usr/local/lib/python3.10/dist-packages (from pgmpy) (1.11.4)\n",
            "Requirement already satisfied: scikit-learn in /usr/local/lib/python3.10/dist-packages (from pgmpy) (1.2.2)\n",
            "Requirement already satisfied: pandas in /usr/local/lib/python3.10/dist-packages (from pgmpy) (2.0.3)\n",
            "Requirement already satisfied: pyparsing in /usr/local/lib/python3.10/dist-packages (from pgmpy) (3.1.2)\n",
            "Requirement already satisfied: torch in /usr/local/lib/python3.10/dist-packages (from pgmpy) (2.2.1+cu121)\n",
            "Requirement already satisfied: statsmodels in /usr/local/lib/python3.10/dist-packages (from pgmpy) (0.14.1)\n",
            "Requirement already satisfied: tqdm in /usr/local/lib/python3.10/dist-packages (from pgmpy) (4.66.2)\n",
            "Requirement already satisfied: joblib in /usr/local/lib/python3.10/dist-packages (from pgmpy) (1.3.2)\n",
            "Requirement already satisfied: opt-einsum in /usr/local/lib/python3.10/dist-packages (from pgmpy) (3.3.0)\n",
            "Requirement already satisfied: python-dateutil>=2.8.2 in /usr/local/lib/python3.10/dist-packages (from pandas->pgmpy) (2.8.2)\n",
            "Requirement already satisfied: pytz>=2020.1 in /usr/local/lib/python3.10/dist-packages (from pandas->pgmpy) (2023.4)\n",
            "Requirement already satisfied: tzdata>=2022.1 in /usr/local/lib/python3.10/dist-packages (from pandas->pgmpy) (2024.1)\n",
            "Requirement already satisfied: threadpoolctl>=2.0.0 in /usr/local/lib/python3.10/dist-packages (from scikit-learn->pgmpy) (3.4.0)\n",
            "Requirement already satisfied: patsy>=0.5.4 in /usr/local/lib/python3.10/dist-packages (from statsmodels->pgmpy) (0.5.6)\n",
            "Requirement already satisfied: packaging>=21.3 in /usr/local/lib/python3.10/dist-packages (from statsmodels->pgmpy) (24.0)\n",
            "Requirement already satisfied: filelock in /usr/local/lib/python3.10/dist-packages (from torch->pgmpy) (3.13.3)\n",
            "Requirement already satisfied: typing-extensions>=4.8.0 in /usr/local/lib/python3.10/dist-packages (from torch->pgmpy) (4.10.0)\n",
            "Requirement already satisfied: sympy in /usr/local/lib/python3.10/dist-packages (from torch->pgmpy) (1.12)\n",
            "Requirement already satisfied: jinja2 in /usr/local/lib/python3.10/dist-packages (from torch->pgmpy) (3.1.3)\n",
            "Requirement already satisfied: fsspec in /usr/local/lib/python3.10/dist-packages (from torch->pgmpy) (2023.6.0)\n",
            "Collecting nvidia-cuda-nvrtc-cu12==12.1.105 (from torch->pgmpy)\n",
            "  Downloading nvidia_cuda_nvrtc_cu12-12.1.105-py3-none-manylinux1_x86_64.whl (23.7 MB)\n",
            "\u001b[2K     \u001b[90m━━━━━━━━━━━━━━━━━━━━━━━━━━━━━━━━━━━━━━━━\u001b[0m \u001b[32m23.7/23.7 MB\u001b[0m \u001b[31m29.6 MB/s\u001b[0m eta \u001b[36m0:00:00\u001b[0m\n",
            "\u001b[?25hCollecting nvidia-cuda-runtime-cu12==12.1.105 (from torch->pgmpy)\n",
            "  Downloading nvidia_cuda_runtime_cu12-12.1.105-py3-none-manylinux1_x86_64.whl (823 kB)\n",
            "\u001b[2K     \u001b[90m━━━━━━━━━━━━━━━━━━━━━━━━━━━━━━━━━━━━━━━━\u001b[0m \u001b[32m823.6/823.6 kB\u001b[0m \u001b[31m51.2 MB/s\u001b[0m eta \u001b[36m0:00:00\u001b[0m\n",
            "\u001b[?25hCollecting nvidia-cuda-cupti-cu12==12.1.105 (from torch->pgmpy)\n",
            "  Downloading nvidia_cuda_cupti_cu12-12.1.105-py3-none-manylinux1_x86_64.whl (14.1 MB)\n",
            "\u001b[2K     \u001b[90m━━━━━━━━━━━━━━━━━━━━━━━━━━━━━━━━━━━━━━━━\u001b[0m \u001b[32m14.1/14.1 MB\u001b[0m \u001b[31m34.0 MB/s\u001b[0m eta \u001b[36m0:00:00\u001b[0m\n",
            "\u001b[?25hCollecting nvidia-cudnn-cu12==8.9.2.26 (from torch->pgmpy)\n",
            "  Downloading nvidia_cudnn_cu12-8.9.2.26-py3-none-manylinux1_x86_64.whl (731.7 MB)\n",
            "\u001b[2K     \u001b[90m━━━━━━━━━━━━━━━━━━━━━━━━━━━━━━━━━━━━━━━━\u001b[0m \u001b[32m731.7/731.7 MB\u001b[0m \u001b[31m1.4 MB/s\u001b[0m eta \u001b[36m0:00:00\u001b[0m\n",
            "\u001b[?25hCollecting nvidia-cublas-cu12==12.1.3.1 (from torch->pgmpy)\n",
            "  Downloading nvidia_cublas_cu12-12.1.3.1-py3-none-manylinux1_x86_64.whl (410.6 MB)\n",
            "\u001b[2K     \u001b[90m━━━━━━━━━━━━━━━━━━━━━━━━━━━━━━━━━━━━━━━━\u001b[0m \u001b[32m410.6/410.6 MB\u001b[0m \u001b[31m2.0 MB/s\u001b[0m eta \u001b[36m0:00:00\u001b[0m\n",
            "\u001b[?25hCollecting nvidia-cufft-cu12==11.0.2.54 (from torch->pgmpy)\n",
            "  Downloading nvidia_cufft_cu12-11.0.2.54-py3-none-manylinux1_x86_64.whl (121.6 MB)\n",
            "\u001b[2K     \u001b[90m━━━━━━━━━━━━━━━━━━━━━━━━━━━━━━━━━━━━━━━━\u001b[0m \u001b[32m121.6/121.6 MB\u001b[0m \u001b[31m3.2 MB/s\u001b[0m eta \u001b[36m0:00:00\u001b[0m\n",
            "\u001b[?25hCollecting nvidia-curand-cu12==10.3.2.106 (from torch->pgmpy)\n",
            "  Downloading nvidia_curand_cu12-10.3.2.106-py3-none-manylinux1_x86_64.whl (56.5 MB)\n",
            "\u001b[2K     \u001b[90m━━━━━━━━━━━━━━━━━━━━━━━━━━━━━━━━━━━━━━━━\u001b[0m \u001b[32m56.5/56.5 MB\u001b[0m \u001b[31m4.6 MB/s\u001b[0m eta \u001b[36m0:00:00\u001b[0m\n",
            "\u001b[?25hCollecting nvidia-cusolver-cu12==11.4.5.107 (from torch->pgmpy)\n",
            "  Downloading nvidia_cusolver_cu12-11.4.5.107-py3-none-manylinux1_x86_64.whl (124.2 MB)\n",
            "\u001b[2K     \u001b[90m━━━━━━━━━━━━━━━━━━━━━━━━━━━━━━━━━━━━━━━━\u001b[0m \u001b[32m124.2/124.2 MB\u001b[0m \u001b[31m3.1 MB/s\u001b[0m eta \u001b[36m0:00:00\u001b[0m\n",
            "\u001b[?25hCollecting nvidia-cusparse-cu12==12.1.0.106 (from torch->pgmpy)\n",
            "  Downloading nvidia_cusparse_cu12-12.1.0.106-py3-none-manylinux1_x86_64.whl (196.0 MB)\n",
            "\u001b[2K     \u001b[90m━━━━━━━━━━━━━━━━━━━━━━━━━━━━━━━━━━━━━━━━\u001b[0m \u001b[32m196.0/196.0 MB\u001b[0m \u001b[31m2.0 MB/s\u001b[0m eta \u001b[36m0:00:00\u001b[0m\n",
            "\u001b[?25hCollecting nvidia-nccl-cu12==2.19.3 (from torch->pgmpy)\n",
            "  Downloading nvidia_nccl_cu12-2.19.3-py3-none-manylinux1_x86_64.whl (166.0 MB)\n",
            "\u001b[2K     \u001b[90m━━━━━━━━━━━━━━━━━━━━━━━━━━━━━━━━━━━━━━━━\u001b[0m \u001b[32m166.0/166.0 MB\u001b[0m \u001b[31m3.4 MB/s\u001b[0m eta \u001b[36m0:00:00\u001b[0m\n",
            "\u001b[?25hCollecting nvidia-nvtx-cu12==12.1.105 (from torch->pgmpy)\n",
            "  Downloading nvidia_nvtx_cu12-12.1.105-py3-none-manylinux1_x86_64.whl (99 kB)\n",
            "\u001b[2K     \u001b[90m━━━━━━━━━━━━━━━━━━━━━━━━━━━━━━━━━━━━━━━━\u001b[0m \u001b[32m99.1/99.1 kB\u001b[0m \u001b[31m7.7 MB/s\u001b[0m eta \u001b[36m0:00:00\u001b[0m\n",
            "\u001b[?25hRequirement already satisfied: triton==2.2.0 in /usr/local/lib/python3.10/dist-packages (from torch->pgmpy) (2.2.0)\n",
            "Collecting nvidia-nvjitlink-cu12 (from nvidia-cusolver-cu12==11.4.5.107->torch->pgmpy)\n",
            "  Downloading nvidia_nvjitlink_cu12-12.4.127-py3-none-manylinux2014_x86_64.whl (21.1 MB)\n",
            "\u001b[2K     \u001b[90m━━━━━━━━━━━━━━━━━━━━━━━━━━━━━━━━━━━━━━━━\u001b[0m \u001b[32m21.1/21.1 MB\u001b[0m \u001b[31m8.4 MB/s\u001b[0m eta \u001b[36m0:00:00\u001b[0m\n",
            "\u001b[?25hRequirement already satisfied: six in /usr/local/lib/python3.10/dist-packages (from patsy>=0.5.4->statsmodels->pgmpy) (1.16.0)\n",
            "Requirement already satisfied: MarkupSafe>=2.0 in /usr/local/lib/python3.10/dist-packages (from jinja2->torch->pgmpy) (2.1.5)\n",
            "Requirement already satisfied: mpmath>=0.19 in /usr/local/lib/python3.10/dist-packages (from sympy->torch->pgmpy) (1.3.0)\n",
            "Installing collected packages: nvidia-nvtx-cu12, nvidia-nvjitlink-cu12, nvidia-nccl-cu12, nvidia-curand-cu12, nvidia-cufft-cu12, nvidia-cuda-runtime-cu12, nvidia-cuda-nvrtc-cu12, nvidia-cuda-cupti-cu12, nvidia-cublas-cu12, nvidia-cusparse-cu12, nvidia-cudnn-cu12, nvidia-cusolver-cu12, pgmpy\n",
            "Successfully installed nvidia-cublas-cu12-12.1.3.1 nvidia-cuda-cupti-cu12-12.1.105 nvidia-cuda-nvrtc-cu12-12.1.105 nvidia-cuda-runtime-cu12-12.1.105 nvidia-cudnn-cu12-8.9.2.26 nvidia-cufft-cu12-11.0.2.54 nvidia-curand-cu12-10.3.2.106 nvidia-cusolver-cu12-11.4.5.107 nvidia-cusparse-cu12-12.1.0.106 nvidia-nccl-cu12-2.19.3 nvidia-nvjitlink-cu12-12.4.127 nvidia-nvtx-cu12-12.1.105 pgmpy-0.1.25\n"
          ]
        }
      ]
    },
    {
      "cell_type": "code",
      "source": [
        "from pgmpy.models import BayesianNetwork\n",
        "\n",
        "# Define the structure of the Bayesian Network\n",
        "model = BayesianNetwork([\n",
        "    ('Smoke', 'Hospital'),  # Edge from Smoke to Hospital\n",
        "    ('Covid', 'Hospital')   # Edge from Covid to Hospital\n",
        "])"
      ],
      "metadata": {
        "id": "dTRUVmO7KGjG"
      },
      "execution_count": 16,
      "outputs": []
    },
    {
      "cell_type": "code",
      "source": [
        "# Define the Conditional Probability Distributions (CPDs)\n",
        "\n",
        "from pgmpy.factors.discrete import TabularCPD\n",
        "\n",
        "# CPD for Smoke\n",
        "cpd_smoke = TabularCPD(variable='Smoke', variable_card=2, values=[[0.25], [0.75]], state_names={'Smoke': ['yes', 'no']})\n",
        "\n",
        "# CPD for Covid\n",
        "cpd_covid = TabularCPD(variable='Covid', variable_card=2, values=[[0.1], [0.9]], state_names={'Covid': ['yes', 'no']})\n",
        "\n",
        "# CPD for Hospital\n",
        "cpd_hospital = TabularCPD(variable='Hospital', variable_card=2,\n",
        "                          values=[[0.9, 0.1, 0.9, 0.01],  # Probabilities for Hospital=yes\n",
        "                                  [0.1, 0.9, 0.1, 0.99]], # Probabilities for Hospital=no\n",
        "                          evidence=['Smoke', 'Covid'],\n",
        "                          evidence_card=[2, 2],\n",
        "                          state_names={'Hospital': ['yes', 'no'], 'Smoke': ['yes', 'no'], 'Covid': ['yes', 'no']})\n",
        "\n",
        "# Add CPDs to the model\n",
        "model.add_cpds(cpd_smoke, cpd_covid, cpd_hospital)\n",
        "\n",
        "#-----------------#\n",
        "#----- NOTES -----#\n",
        "#-----------------#\n",
        "\n",
        "# In the CPD for Hospital, the probabilities are ordered according to the Cartesian product of the evidence variables' states,\n",
        "# i.e., ['Smoke_yes', 'Covid_yes'], ['Smoke_yes', 'Covid_no'], ['Smoke_no', 'Covid_yes'], and ['Smoke_no', 'Covid_no'].\n",
        "\n",
        "# state_names parameter in each CPD is optional but helps make the output more interpretable.\n",
        "\n",
        "# This example assumes binary states (yes/no) for simplicity, but pgmpy supports nodes with multiple states.\n",
        "\n",
        "# The term evidence_card refers to the cardinality of the evidence variables. It specifies the number of states (or distinct values) that each evidence variable can take.\n"
      ],
      "metadata": {
        "id": "uXchXAZdKkME"
      },
      "execution_count": 17,
      "outputs": []
    },
    {
      "cell_type": "code",
      "source": [
        "from pgmpy.inference import VariableElimination\n",
        "\n",
        "# VariableElimination in pgmpy performs exact inference in Bayesian Networks\n",
        "# by systematically eliminating variables, computing marginal distributions\n",
        "# of interest or conditional distributions given evidence, optimizing\n",
        "# computational efficiency through the order of elimination.\n",
        "\n",
        "inference = VariableElimination(model)\n",
        "\n",
        "# Probability of Hospitalization given Smoke=yes and Covid=yes\n",
        "prob_hospital = inference.query(variables=['Hospital'], evidence={'Smoke': 'yes', 'Covid': 'yes'})\n",
        "print(prob_hospital)\n"
      ],
      "metadata": {
        "colab": {
          "base_uri": "https://localhost:8080/"
        },
        "id": "xSkMoV59K7El",
        "outputId": "df26fe48-4434-4cae-934c-d197cc5927be"
      },
      "execution_count": 18,
      "outputs": [
        {
          "output_type": "stream",
          "name": "stdout",
          "text": [
            "+---------------+-----------------+\n",
            "| Hospital      |   phi(Hospital) |\n",
            "+===============+=================+\n",
            "| Hospital(yes) |          0.9000 |\n",
            "+---------------+-----------------+\n",
            "| Hospital(no)  |          0.1000 |\n",
            "+---------------+-----------------+\n"
          ]
        }
      ]
    },
    {
      "cell_type": "code",
      "source": [
        "# Probability of Covid given Smoke=yes and Hospital=yes\n",
        "prob_covid = inference.query(variables=['Covid'], evidence={'Smoke': 'yes', 'Hospital': 'yes'})\n",
        "print(prob_covid)"
      ],
      "metadata": {
        "colab": {
          "base_uri": "https://localhost:8080/"
        },
        "id": "N72apoNsL8p5",
        "outputId": "c2d9ab53-c9c8-46f1-db86-4aaa936aeaa4"
      },
      "execution_count": 19,
      "outputs": [
        {
          "output_type": "stream",
          "name": "stdout",
          "text": [
            "+------------+--------------+\n",
            "| Covid      |   phi(Covid) |\n",
            "+============+==============+\n",
            "| Covid(yes) |       0.5000 |\n",
            "+------------+--------------+\n",
            "| Covid(no)  |       0.5000 |\n",
            "+------------+--------------+\n"
          ]
        }
      ]
    },
    {
      "cell_type": "code",
      "source": [],
      "metadata": {
        "id": "jLd7jlqxMDxn"
      },
      "execution_count": null,
      "outputs": []
    }
  ]
}